{
 "cells": [
  {
   "cell_type": "code",
   "execution_count": 1,
   "id": "a9ba1fde-9178-40e5-90b6-3e07bc47f7b0",
   "metadata": {},
   "outputs": [],
   "source": [
    "import os\n",
    "import pandas as pd\n",
    "import json\n",
    "import random\n",
    "import shutil\n",
    "import numpy as np\n",
    "import pathlib\n",
    "import subprocess\n",
    "import re\n",
    "import pickle"
   ]
  },
  {
   "cell_type": "code",
   "execution_count": null,
   "id": "ab4ce3aa-8eac-4b10-8833-3dbcb43cab99",
   "metadata": {},
   "outputs": [],
   "source": []
  },
  {
   "cell_type": "code",
   "execution_count": 2,
   "id": "3316b196-1702-4aee-ab3a-52357528bf17",
   "metadata": {},
   "outputs": [],
   "source": [
    "source_pose_dir = './raw_data/UBnormal/poses'\n",
    "source_video_dir = './raw_data/UBnormal/videos'"
   ]
  },
  {
   "cell_type": "code",
   "execution_count": 3,
   "id": "b7f07e8b-4836-4cae-afd1-1e8cb19dc9a9",
   "metadata": {},
   "outputs": [],
   "source": [
    "dst_pose_dir = './STG-NF/data/UBnormal/pose/test'\n",
    "dst_video_dir = './STG-NF/data/UBnormal/videos'"
   ]
  },
  {
   "cell_type": "code",
   "execution_count": 4,
   "id": "054378c5-6d43-41c3-b71b-780bffebc708",
   "metadata": {},
   "outputs": [],
   "source": [
    "def get_jsons(directory: str):\n",
    "    \"\"\"Function that exctracts the mp4 files from the given directory\n",
    "    and returns the path to the video and it's annotations\n",
    "    \"\"\"\n",
    "    filelist = [];\n",
    "    for root, dirs, files in os.walk(directory):\n",
    "        for file in files:\n",
    "            if file.endswith('tracked_person.json'):\n",
    "                json_file = os.path.join(root,file)\n",
    "                filelist.append(json_file)\n",
    "    return filelist\n",
    "\n",
    "def get_mp4s(directory: str):\n",
    "    \"\"\"Function that exctracts the mp4 files from the given directory\n",
    "    and returns the path to the video and it's annotations\n",
    "    \"\"\"\n",
    "    filelist = [];\n",
    "    for root, dirs, files in os.walk(directory):\n",
    "        for file in files:\n",
    "            if file.endswith('.mp4'):\n",
    "                json_file = os.path.join(root,file)\n",
    "                filelist.append(json_file)\n",
    "    return filelist\n",
    "\n",
    "def remove_files(directory: str):\n",
    "    for root, dirs, files in os.walk(directory):\n",
    "        for file in files:\n",
    "           file_path = os.path.join(root, file)\n",
    "           if os.path.isfile(file_path):\n",
    "               os.remove(file_path)\n",
    "\n",
    "def run_command(\n",
    "   command: str,\n",
    "   cwd: str,\n",
    "   return_output: bool = False,\n",
    "   strip_response: bool = True,\n",
    ") -> list:\n",
    "   \"\"\"Prints output of subprocess command in real-time.\n",
    "\n",
    "\n",
    "   Args:\n",
    "       command (string): The command to run\n",
    "       return_output (bool): Return output of command as an array or not.\n",
    "       strip_response (bool): Whether or not to strip whitespaces from response.\n",
    "\n",
    "\n",
    "   Returns:\n",
    "       list|int|None: The output of the command\n",
    "   \"\"\"\n",
    "   output = []\n",
    "   with subprocess.Popen(\n",
    "       command,\n",
    "       cwd=cwd,\n",
    "       stdout=subprocess.PIPE,\n",
    "       shell=True,\n",
    "   ) as process:  # nosec\n",
    "       while True:\n",
    "           response = process.stdout.readline()\n",
    "           if response == b\"\" and process.poll() is not None:\n",
    "               break\n",
    "           if response:\n",
    "               cleaned_output = response.strip() if strip_response else response\n",
    "               if return_output:\n",
    "                   output.append(cleaned_output.decode(\"UTF-8\"))\n",
    "       command_response = process.poll()\n",
    "   return output if return_output else command_response"
   ]
  },
  {
   "cell_type": "code",
   "execution_count": null,
   "id": "5c54bbba-7be5-4ade-b78a-4de3d3369fc3",
   "metadata": {},
   "outputs": [],
   "source": []
  },
  {
   "cell_type": "code",
   "execution_count": 5,
   "id": "8c15df97-89ab-4145-bed3-c520d1b8f475",
   "metadata": {
    "scrolled": true
   },
   "outputs": [],
   "source": [
    "json_files = get_jsons(source_pose_dir)\n",
    "mp4_files = get_mp4s(source_video_dir)\n",
    "mp4_dict = {f.split('/')[-1].split('.')[0]: f for f in mp4_files}"
   ]
  },
  {
   "cell_type": "code",
   "execution_count": null,
   "id": "beb40c1e-dd1a-48bd-b998-b26a979dd041",
   "metadata": {},
   "outputs": [],
   "source": []
  },
  {
   "cell_type": "code",
   "execution_count": null,
   "id": "0f2a7e76-a1bc-4eed-b585-a1157f6b5155",
   "metadata": {},
   "outputs": [],
   "source": []
  },
  {
   "cell_type": "code",
   "execution_count": null,
   "id": "60a0dc0f-165a-450d-ac0a-724e271540cd",
   "metadata": {
    "scrolled": true
   },
   "outputs": [],
   "source": []
  },
  {
   "cell_type": "code",
   "execution_count": 7,
   "id": "d89f3d58-d8ab-41a3-af9b-8d025dfd4f2f",
   "metadata": {
    "scrolled": true
   },
   "outputs": [],
   "source": [
    "def gen_test_set(n_videos):\n",
    "    test_scenes = []\n",
    "    while len(test_scenes) < n_videos:\n",
    "        scene = random.choices(json_files, k=1)[0]\n",
    "        pose_file_name = scene.split('/')[-1]\n",
    "        video_name = '_'.join(pose_file_name.split('-')[0].split('_')[0:-3])\n",
    "\n",
    "        # Validate that the json contains a trajectory\n",
    "        with open(scene) as f:\n",
    "            tracking = json.load(f)\n",
    "            if not tracking:\n",
    "                continue\n",
    "        \n",
    "        # The ground truth shared in the repo of STG-NF contains two formats\n",
    "        # One is a Numpy array, the other is a text file containing per person if which frame contains invalid poses\n",
    "        # hence for validating that the poses are abnormal, we're only interrested in the cases where we know on a person level\n",
    "        # if their pose is abnormal\n",
    "        # try:\n",
    "        #     np.load(f'./STG-NF/data/UBnormal/gt/{video_name}_tracks.txt', allow_pickle=True)\n",
    "        # except FileNotFoundError:\n",
    "        #     continue\n",
    "        # except pickle.UnpicklingError:\n",
    "        #     if scene not in test_scenes:\n",
    "        #         test_scenes.append(scene)\n",
    "        annotation_file = f'./STG-NF/data/UBnormal/gt/{video_name}_tracks.txt'\n",
    "        try:\n",
    "            mask = np.load(annotation_file, allow_pickle=True)\n",
    "        except FileNotFoundError:\n",
    "            continue\n",
    "        except pickle.UnpicklingError:\n",
    "            with open(annotation_file) as f:\n",
    "                annotations = [line.strip() for line in f.readlines()]\n",
    "            mask = convert_lines_annotation_to_mask(annotations)\n",
    "            np.save(file=annotation_file, arr=mask, allow_pickle=True)\n",
    "        test_scenes.append(scene)\n",
    "\n",
    "    remove_files(dst_pose_dir)\n",
    "    remove_files(dst_video_dir)\n",
    "    pathlib.Path(dst_pose_dir).mkdir(parents=True, exist_ok=True)\n",
    "    pathlib.Path(dst_video_dir).mkdir(parents=True, exist_ok=True)\n",
    "    for pose_file in test_scenes:\n",
    "        pose_file_name = pose_file.split('/')[-1]\n",
    "        video_name = '_'.join(pose_file_name.split('-')[0].split('_')[0:-3])\n",
    "        video_file = mp4_dict[video_name]\n",
    "        pose_dest = os.path.join(dst_pose_dir, pose_file_name)\n",
    "        video_dest = os.path.join(dst_video_dir, f'{video_name}.mp4')\n",
    "        shutil.copyfile(pose_file, pose_dest)\n",
    "        shutil.copyfile(video_file, video_dest)\n",
    "    return test_scenes\n",
    "\n",
    "def convert_lines_annotation_to_mask(annotations):\n",
    "    filters = []\n",
    "    for line in annotations:\n",
    "        _, start_frame, end_frame = line.split(',')\n",
    "        # Use float to avoid issues with scientific notation\n",
    "        filters.append(\n",
    "                (\n",
    "                    int(float(start_frame)),\n",
    "                    int(float(end_frame))\n",
    "                )\n",
    "        )\n",
    "    \n",
    "    mask = [1] * 451\n",
    "    for i in range(451):\n",
    "        for start, end in filters:\n",
    "            if start <= i <= end:\n",
    "                mask[i] = 0\n",
    "    return mask"
   ]
  },
  {
   "cell_type": "code",
   "execution_count": 25,
   "id": "51009ccc-7e78-45ee-b486-1895d8708fe3",
   "metadata": {},
   "outputs": [],
   "source": [
    "# TODO: make checkpoint variable\n",
    "model = 'UBnormal_supervised_79_2'\n",
    "eval_cmd = f'''python train_eval.py --dataset UBnormal --seg_len 16  --only_test \\\n",
    "--checkpoint /mnt/c/Users/ruben/Documents/VUB/CurrentTrendsOfAI/PoseGraphAnomalyDetection/STG-NF/checkpoints/{model}.tar \\\n",
    "--pose_path_test '/mnt/c/Users/ruben/Documents/VUB/CurrentTrendsOfAI/PoseGraphAnomalyDetection/STG-NF/data/UBnormal/pose/test' \\\n",
    "--pose_path_train '/mnt/c/Users/ruben/Documents/VUB/CurrentTrendsOfAI/PoseGraphAnomalyDetection/STG-NF/data/UBnormal/pose/train' \\\n",
    "--vid_path_train '/mnt/c/Users/ruben/Documents/VUB/CurrentTrendsOfAI/PoseGraphAnomalyDetection/STG-NF/data/UBnormal/videos' \\\n",
    "--vid_path_test '/mnt/c/Users/ruben/Documents/VUB/CurrentTrendsOfAI/PoseGraphAnomalyDetection/STG-NF/data/UBnormal/videos'\n",
    "'''"
   ]
  },
  {
   "cell_type": "code",
   "execution_count": 26,
   "id": "e9586980-d9c8-463a-95ff-9f852c0ad951",
   "metadata": {
    "scrolled": true
   },
   "outputs": [
    {
     "name": "stdout",
     "output_type": "stream",
     "text": [
      "Benchmark 0\n"
     ]
    },
    {
     "name": "stderr",
     "output_type": "stream",
     "text": [
      "100%|██████████| 47/47 [00:10<00:00,  4.35it/s]\n",
      "100%|██████████| 252/252 [00:03<00:00, 71.68it/s]\n",
      "100%|██████████| 47/47 [00:01<00:00, 27.27it/s]\n"
     ]
    },
    {
     "name": "stdout",
     "output_type": "stream",
     "text": [
      "Benchmark 1\n"
     ]
    },
    {
     "name": "stderr",
     "output_type": "stream",
     "text": [
      "100%|██████████| 47/47 [00:12<00:00,  3.69it/s]\n",
      "100%|██████████| 287/287 [00:03<00:00, 78.66it/s] \n",
      "100%|██████████| 47/47 [00:01<00:00, 24.92it/s]\n"
     ]
    },
    {
     "name": "stdout",
     "output_type": "stream",
     "text": [
      "Benchmark 2\n"
     ]
    },
    {
     "name": "stderr",
     "output_type": "stream",
     "text": [
      "100%|██████████| 49/49 [00:12<00:00,  3.85it/s]\n",
      "100%|██████████| 293/293 [00:03<00:00, 80.06it/s]\n",
      "100%|██████████| 49/49 [00:02<00:00, 23.42it/s]\n"
     ]
    },
    {
     "name": "stdout",
     "output_type": "stream",
     "text": [
      "Benchmark 3\n"
     ]
    },
    {
     "name": "stderr",
     "output_type": "stream",
     "text": [
      "100%|██████████| 45/45 [00:12<00:00,  3.70it/s]\n",
      "100%|██████████| 277/277 [00:03<00:00, 78.33it/s]\n",
      "100%|██████████| 45/45 [00:01<00:00, 25.08it/s]\n"
     ]
    },
    {
     "name": "stdout",
     "output_type": "stream",
     "text": [
      "Benchmark 4\n"
     ]
    },
    {
     "name": "stderr",
     "output_type": "stream",
     "text": [
      "100%|██████████| 47/47 [00:11<00:00,  4.19it/s]\n",
      "100%|██████████| 252/252 [00:03<00:00, 75.65it/s] \n",
      "100%|██████████| 47/47 [00:01<00:00, 29.45it/s]\n"
     ]
    },
    {
     "name": "stdout",
     "output_type": "stream",
     "text": [
      "Benchmark 5\n"
     ]
    },
    {
     "name": "stderr",
     "output_type": "stream",
     "text": [
      "100%|██████████| 45/45 [00:11<00:00,  3.82it/s]\n",
      "100%|██████████| 274/274 [00:03<00:00, 76.74it/s]\n",
      "100%|██████████| 45/45 [00:01<00:00, 24.83it/s]\n"
     ]
    },
    {
     "name": "stdout",
     "output_type": "stream",
     "text": [
      "Benchmark 6\n"
     ]
    },
    {
     "name": "stderr",
     "output_type": "stream",
     "text": [
      "100%|██████████| 44/44 [00:09<00:00,  4.61it/s]\n",
      "100%|██████████| 225/225 [00:02<00:00, 77.56it/s]\n",
      "100%|██████████| 44/44 [00:01<00:00, 30.18it/s]\n"
     ]
    },
    {
     "name": "stdout",
     "output_type": "stream",
     "text": [
      "Benchmark 7\n"
     ]
    },
    {
     "name": "stderr",
     "output_type": "stream",
     "text": [
      "100%|██████████| 43/43 [00:10<00:00,  4.01it/s]\n",
      "100%|██████████| 249/249 [00:03<00:00, 77.92it/s]\n",
      "100%|██████████| 43/43 [00:01<00:00, 27.37it/s]\n"
     ]
    },
    {
     "name": "stdout",
     "output_type": "stream",
     "text": [
      "Benchmark 8\n"
     ]
    },
    {
     "name": "stderr",
     "output_type": "stream",
     "text": [
      "100%|██████████| 45/45 [00:12<00:00,  3.54it/s]\n",
      "100%|██████████| 290/290 [00:04<00:00, 70.65it/s]\n",
      "100%|██████████| 45/45 [00:01<00:00, 22.92it/s]\n"
     ]
    },
    {
     "name": "stdout",
     "output_type": "stream",
     "text": [
      "Benchmark 9\n"
     ]
    },
    {
     "name": "stderr",
     "output_type": "stream",
     "text": [
      "100%|██████████| 45/45 [00:11<00:00,  3.97it/s]\n",
      "100%|██████████| 261/261 [00:03<00:00, 73.43it/s]\n",
      "100%|██████████| 45/45 [00:01<00:00, 28.05it/s]\n"
     ]
    },
    {
     "name": "stdout",
     "output_type": "stream",
     "text": [
      "Benchmark 10\n"
     ]
    },
    {
     "name": "stderr",
     "output_type": "stream",
     "text": [
      "100%|██████████| 44/44 [00:11<00:00,  3.96it/s]\n",
      "100%|██████████| 253/253 [00:03<00:00, 75.74it/s]\n",
      "100%|██████████| 44/44 [00:01<00:00, 27.14it/s]\n"
     ]
    },
    {
     "name": "stdout",
     "output_type": "stream",
     "text": [
      "Benchmark 11\n"
     ]
    },
    {
     "name": "stderr",
     "output_type": "stream",
     "text": [
      "100%|██████████| 48/48 [00:15<00:00,  3.19it/s]\n",
      "100%|██████████| 346/346 [00:04<00:00, 80.34it/s]\n",
      "100%|██████████| 48/48 [00:02<00:00, 19.18it/s]\n"
     ]
    },
    {
     "name": "stdout",
     "output_type": "stream",
     "text": [
      "Benchmark 12\n"
     ]
    },
    {
     "name": "stderr",
     "output_type": "stream",
     "text": [
      "100%|██████████| 47/47 [00:12<00:00,  3.87it/s]\n",
      "100%|██████████| 277/277 [00:03<00:00, 79.06it/s] \n",
      "100%|██████████| 47/47 [00:01<00:00, 25.79it/s]\n"
     ]
    },
    {
     "name": "stdout",
     "output_type": "stream",
     "text": [
      "Benchmark 13\n"
     ]
    },
    {
     "name": "stderr",
     "output_type": "stream",
     "text": [
      "100%|██████████| 46/46 [00:13<00:00,  3.42it/s]\n",
      "100%|██████████| 310/310 [00:03<00:00, 79.24it/s]\n",
      "100%|██████████| 46/46 [00:02<00:00, 21.44it/s]\n"
     ]
    },
    {
     "name": "stdout",
     "output_type": "stream",
     "text": [
      "Benchmark 14\n"
     ]
    },
    {
     "name": "stderr",
     "output_type": "stream",
     "text": [
      "100%|██████████| 46/46 [00:12<00:00,  3.62it/s]\n",
      "100%|██████████| 286/286 [00:03<00:00, 78.50it/s] \n",
      "100%|██████████| 46/46 [00:01<00:00, 25.21it/s]\n"
     ]
    },
    {
     "name": "stdout",
     "output_type": "stream",
     "text": [
      "Benchmark 15\n"
     ]
    },
    {
     "name": "stderr",
     "output_type": "stream",
     "text": [
      "100%|██████████| 43/43 [00:09<00:00,  4.54it/s]\n",
      "100%|██████████| 218/218 [00:02<00:00, 78.43it/s]\n",
      "100%|██████████| 43/43 [00:01<00:00, 32.21it/s]\n"
     ]
    },
    {
     "name": "stdout",
     "output_type": "stream",
     "text": [
      "Benchmark 16\n"
     ]
    },
    {
     "name": "stderr",
     "output_type": "stream",
     "text": [
      "100%|██████████| 49/49 [00:14<00:00,  3.41it/s]\n",
      "100%|██████████| 322/322 [00:04<00:00, 78.42it/s]\n",
      "100%|██████████| 49/49 [00:02<00:00, 22.25it/s]\n"
     ]
    },
    {
     "name": "stdout",
     "output_type": "stream",
     "text": [
      "Benchmark 17\n"
     ]
    },
    {
     "name": "stderr",
     "output_type": "stream",
     "text": [
      "100%|██████████| 45/45 [00:12<00:00,  3.50it/s]\n",
      "100%|██████████| 291/291 [00:03<00:00, 79.84it/s]\n",
      "100%|██████████| 45/45 [00:01<00:00, 24.86it/s]\n"
     ]
    },
    {
     "name": "stdout",
     "output_type": "stream",
     "text": [
      "Benchmark 18\n"
     ]
    },
    {
     "name": "stderr",
     "output_type": "stream",
     "text": [
      "100%|██████████| 48/48 [00:13<00:00,  3.64it/s]\n",
      "100%|██████████| 303/303 [00:03<00:00, 79.55it/s]\n",
      "100%|██████████| 48/48 [00:02<00:00, 23.58it/s]\n"
     ]
    },
    {
     "name": "stdout",
     "output_type": "stream",
     "text": [
      "Benchmark 19\n"
     ]
    },
    {
     "name": "stderr",
     "output_type": "stream",
     "text": [
      "100%|██████████| 44/44 [00:11<00:00,  3.79it/s]\n",
      "100%|██████████| 265/265 [00:03<00:00, 78.47it/s]\n",
      "100%|██████████| 44/44 [00:01<00:00, 27.10it/s]\n"
     ]
    },
    {
     "name": "stdout",
     "output_type": "stream",
     "text": [
      "Benchmark 20\n"
     ]
    },
    {
     "name": "stderr",
     "output_type": "stream",
     "text": [
      "100%|██████████| 44/44 [00:11<00:00,  3.81it/s]\n",
      "100%|██████████| 272/272 [00:03<00:00, 79.26it/s]\n",
      "100%|██████████| 44/44 [00:01<00:00, 25.23it/s]\n"
     ]
    },
    {
     "name": "stdout",
     "output_type": "stream",
     "text": [
      "Benchmark 21\n"
     ]
    },
    {
     "name": "stderr",
     "output_type": "stream",
     "text": [
      "100%|██████████| 43/43 [00:10<00:00,  4.18it/s]\n",
      "100%|██████████| 237/237 [00:03<00:00, 76.33it/s]\n",
      "100%|██████████| 43/43 [00:01<00:00, 26.96it/s]\n"
     ]
    },
    {
     "name": "stdout",
     "output_type": "stream",
     "text": [
      "Benchmark 22\n"
     ]
    },
    {
     "name": "stderr",
     "output_type": "stream",
     "text": [
      "100%|██████████| 44/44 [00:12<00:00,  3.51it/s]\n",
      "100%|██████████| 289/289 [00:03<00:00, 78.88it/s]\n",
      "100%|██████████| 44/44 [00:02<00:00, 21.50it/s]\n"
     ]
    },
    {
     "name": "stdout",
     "output_type": "stream",
     "text": [
      "Benchmark 23\n"
     ]
    },
    {
     "name": "stderr",
     "output_type": "stream",
     "text": [
      "100%|██████████| 47/47 [00:11<00:00,  4.19it/s]\n",
      "100%|██████████| 254/254 [00:03<00:00, 76.27it/s]\n",
      "100%|██████████| 47/47 [00:01<00:00, 29.02it/s]\n"
     ]
    },
    {
     "name": "stdout",
     "output_type": "stream",
     "text": [
      "Benchmark 24\n"
     ]
    },
    {
     "name": "stderr",
     "output_type": "stream",
     "text": [
      "100%|██████████| 43/43 [00:11<00:00,  3.66it/s]\n",
      "100%|██████████| 269/269 [00:03<00:00, 77.68it/s]\n",
      "100%|██████████| 43/43 [00:01<00:00, 23.72it/s]\n"
     ]
    },
    {
     "name": "stdout",
     "output_type": "stream",
     "text": [
      "Benchmark 25\n"
     ]
    },
    {
     "name": "stderr",
     "output_type": "stream",
     "text": [
      "100%|██████████| 44/44 [00:11<00:00,  3.71it/s]\n",
      "100%|██████████| 272/272 [00:03<00:00, 75.26it/s]\n",
      "100%|██████████| 44/44 [00:01<00:00, 25.60it/s]\n"
     ]
    },
    {
     "name": "stdout",
     "output_type": "stream",
     "text": [
      "Benchmark 26\n"
     ]
    },
    {
     "name": "stderr",
     "output_type": "stream",
     "text": [
      "100%|██████████| 47/47 [00:11<00:00,  3.92it/s]\n",
      "100%|██████████| 279/279 [00:03<00:00, 79.19it/s]\n",
      "100%|██████████| 47/47 [00:01<00:00, 24.24it/s]\n"
     ]
    },
    {
     "name": "stdout",
     "output_type": "stream",
     "text": [
      "Benchmark 27\n"
     ]
    },
    {
     "name": "stderr",
     "output_type": "stream",
     "text": [
      "100%|██████████| 47/47 [00:12<00:00,  3.76it/s]\n",
      "100%|██████████| 293/293 [00:03<00:00, 77.55it/s]\n",
      "100%|██████████| 47/47 [00:02<00:00, 23.05it/s]\n"
     ]
    },
    {
     "name": "stdout",
     "output_type": "stream",
     "text": [
      "Benchmark 28\n"
     ]
    },
    {
     "name": "stderr",
     "output_type": "stream",
     "text": [
      "100%|██████████| 45/45 [00:11<00:00,  3.90it/s]\n",
      "100%|██████████| 264/264 [00:03<00:00, 74.26it/s]\n",
      "100%|██████████| 45/45 [00:01<00:00, 23.07it/s]\n"
     ]
    },
    {
     "name": "stdout",
     "output_type": "stream",
     "text": [
      "Benchmark 29\n"
     ]
    },
    {
     "name": "stderr",
     "output_type": "stream",
     "text": [
      "100%|██████████| 49/49 [00:12<00:00,  3.88it/s]\n",
      "100%|██████████| 290/290 [00:03<00:00, 79.38it/s]\n",
      "100%|██████████| 49/49 [00:01<00:00, 24.68it/s]\n"
     ]
    },
    {
     "name": "stdout",
     "output_type": "stream",
     "text": [
      "Benchmark 30\n"
     ]
    },
    {
     "name": "stderr",
     "output_type": "stream",
     "text": [
      "100%|██████████| 45/45 [00:12<00:00,  3.47it/s]\n",
      "100%|██████████| 306/306 [00:04<00:00, 76.29it/s]\n",
      "100%|██████████| 45/45 [00:02<00:00, 20.77it/s]\n"
     ]
    },
    {
     "name": "stdout",
     "output_type": "stream",
     "text": [
      "Benchmark 31\n"
     ]
    },
    {
     "name": "stderr",
     "output_type": "stream",
     "text": [
      "100%|██████████| 45/45 [00:13<00:00,  3.40it/s]\n",
      "100%|██████████| 308/308 [00:03<00:00, 81.04it/s] \n",
      "100%|██████████| 45/45 [00:02<00:00, 21.14it/s]\n"
     ]
    },
    {
     "name": "stdout",
     "output_type": "stream",
     "text": [
      "Benchmark 32\n"
     ]
    },
    {
     "name": "stderr",
     "output_type": "stream",
     "text": [
      "100%|██████████| 47/47 [00:12<00:00,  3.75it/s]\n",
      "100%|██████████| 284/284 [00:03<00:00, 76.47it/s]\n",
      "100%|██████████| 47/47 [00:01<00:00, 24.20it/s]\n"
     ]
    },
    {
     "name": "stdout",
     "output_type": "stream",
     "text": [
      "Benchmark 33\n"
     ]
    },
    {
     "name": "stderr",
     "output_type": "stream",
     "text": [
      "100%|██████████| 46/46 [00:09<00:00,  4.60it/s]\n",
      "100%|██████████| 232/232 [00:02<00:00, 78.55it/s]\n",
      "100%|██████████| 46/46 [00:01<00:00, 30.55it/s]\n"
     ]
    },
    {
     "name": "stdout",
     "output_type": "stream",
     "text": [
      "Benchmark 34\n"
     ]
    },
    {
     "name": "stderr",
     "output_type": "stream",
     "text": [
      "100%|██████████| 45/45 [00:11<00:00,  3.78it/s]\n",
      "100%|██████████| 274/274 [00:03<00:00, 78.57it/s]\n",
      "100%|██████████| 45/45 [00:01<00:00, 24.61it/s]\n"
     ]
    },
    {
     "name": "stdout",
     "output_type": "stream",
     "text": [
      "Benchmark 35\n"
     ]
    },
    {
     "name": "stderr",
     "output_type": "stream",
     "text": [
      "100%|██████████| 47/47 [00:13<00:00,  3.49it/s]\n",
      "100%|██████████| 304/304 [00:03<00:00, 76.24it/s]\n",
      "100%|██████████| 47/47 [00:02<00:00, 23.14it/s]\n"
     ]
    },
    {
     "name": "stdout",
     "output_type": "stream",
     "text": [
      "Benchmark 36\n"
     ]
    },
    {
     "name": "stderr",
     "output_type": "stream",
     "text": [
      "100%|██████████| 44/44 [00:13<00:00,  3.35it/s]\n",
      "100%|██████████| 299/299 [00:03<00:00, 79.35it/s]\n",
      "100%|██████████| 44/44 [00:02<00:00, 21.85it/s]\n"
     ]
    },
    {
     "name": "stdout",
     "output_type": "stream",
     "text": [
      "Benchmark 37\n"
     ]
    },
    {
     "name": "stderr",
     "output_type": "stream",
     "text": [
      "100%|██████████| 44/44 [00:12<00:00,  3.42it/s]\n",
      "100%|██████████| 296/296 [00:04<00:00, 73.83it/s]\n",
      "100%|██████████| 44/44 [00:02<00:00, 21.96it/s]\n"
     ]
    },
    {
     "name": "stdout",
     "output_type": "stream",
     "text": [
      "Benchmark 38\n"
     ]
    },
    {
     "name": "stderr",
     "output_type": "stream",
     "text": [
      "100%|██████████| 48/48 [00:12<00:00,  3.74it/s]\n",
      "100%|██████████| 298/298 [00:03<00:00, 79.81it/s]\n",
      "100%|██████████| 48/48 [00:02<00:00, 23.85it/s]\n"
     ]
    },
    {
     "name": "stdout",
     "output_type": "stream",
     "text": [
      "Benchmark 39\n"
     ]
    },
    {
     "name": "stderr",
     "output_type": "stream",
     "text": [
      "100%|██████████| 46/46 [00:12<00:00,  3.79it/s]\n",
      "100%|██████████| 282/282 [00:03<00:00, 78.42it/s]\n",
      "100%|██████████| 46/46 [00:01<00:00, 24.36it/s]\n"
     ]
    },
    {
     "name": "stdout",
     "output_type": "stream",
     "text": [
      "Benchmark 40\n"
     ]
    },
    {
     "name": "stderr",
     "output_type": "stream",
     "text": [
      "100%|██████████| 46/46 [00:13<00:00,  3.41it/s]\n",
      "100%|██████████| 305/305 [00:03<00:00, 79.99it/s] \n",
      "100%|██████████| 46/46 [00:01<00:00, 23.18it/s]\n"
     ]
    },
    {
     "name": "stdout",
     "output_type": "stream",
     "text": [
      "Benchmark 41\n"
     ]
    },
    {
     "name": "stderr",
     "output_type": "stream",
     "text": [
      "100%|██████████| 47/47 [00:13<00:00,  3.57it/s]\n",
      "100%|██████████| 301/301 [00:03<00:00, 76.47it/s]\n",
      "100%|██████████| 47/47 [00:01<00:00, 24.53it/s]\n"
     ]
    },
    {
     "name": "stdout",
     "output_type": "stream",
     "text": [
      "Benchmark 42\n"
     ]
    },
    {
     "name": "stderr",
     "output_type": "stream",
     "text": [
      "100%|██████████| 46/46 [00:11<00:00,  3.95it/s]\n",
      "100%|██████████| 272/272 [00:03<00:00, 75.64it/s]\n",
      "100%|██████████| 46/46 [00:01<00:00, 26.40it/s]\n"
     ]
    },
    {
     "name": "stdout",
     "output_type": "stream",
     "text": [
      "Benchmark 43\n"
     ]
    },
    {
     "name": "stderr",
     "output_type": "stream",
     "text": [
      "100%|██████████| 47/47 [00:11<00:00,  3.93it/s]\n",
      "100%|██████████| 284/284 [00:03<00:00, 72.68it/s]\n",
      "100%|██████████| 47/47 [00:02<00:00, 23.33it/s]\n"
     ]
    },
    {
     "name": "stdout",
     "output_type": "stream",
     "text": [
      "Benchmark 44\n"
     ]
    },
    {
     "name": "stderr",
     "output_type": "stream",
     "text": [
      "100%|██████████| 47/47 [00:11<00:00,  4.04it/s]\n",
      "100%|██████████| 268/268 [00:03<00:00, 77.39it/s]\n",
      "100%|██████████| 47/47 [00:01<00:00, 26.02it/s]\n"
     ]
    },
    {
     "name": "stdout",
     "output_type": "stream",
     "text": [
      "Benchmark 45\n"
     ]
    },
    {
     "name": "stderr",
     "output_type": "stream",
     "text": [
      "100%|██████████| 49/49 [00:11<00:00,  4.13it/s]\n",
      "100%|██████████| 280/280 [00:03<00:00, 76.47it/s]\n",
      "100%|██████████| 49/49 [00:01<00:00, 25.18it/s]\n"
     ]
    },
    {
     "name": "stdout",
     "output_type": "stream",
     "text": [
      "Benchmark 46\n"
     ]
    },
    {
     "name": "stderr",
     "output_type": "stream",
     "text": [
      "100%|██████████| 47/47 [00:13<00:00,  3.36it/s]\n",
      "100%|██████████| 324/324 [00:04<00:00, 79.69it/s]\n",
      "100%|██████████| 47/47 [00:02<00:00, 20.62it/s]\n"
     ]
    },
    {
     "name": "stdout",
     "output_type": "stream",
     "text": [
      "Benchmark 47\n"
     ]
    },
    {
     "name": "stderr",
     "output_type": "stream",
     "text": [
      "100%|██████████| 44/44 [00:11<00:00,  3.75it/s]\n",
      "100%|██████████| 273/273 [00:03<00:00, 78.39it/s]\n",
      "100%|██████████| 44/44 [00:01<00:00, 25.24it/s]\n"
     ]
    },
    {
     "name": "stdout",
     "output_type": "stream",
     "text": [
      "Benchmark 48\n"
     ]
    },
    {
     "name": "stderr",
     "output_type": "stream",
     "text": [
      "100%|██████████| 47/47 [00:12<00:00,  3.91it/s]\n",
      "100%|██████████| 279/279 [00:03<00:00, 78.75it/s] \n",
      "100%|██████████| 47/47 [00:01<00:00, 24.96it/s]\n"
     ]
    },
    {
     "name": "stdout",
     "output_type": "stream",
     "text": [
      "Benchmark 49\n"
     ]
    },
    {
     "name": "stderr",
     "output_type": "stream",
     "text": [
      "100%|██████████| 42/42 [00:10<00:00,  4.07it/s]\n",
      "100%|██████████| 239/239 [00:03<00:00, 78.63it/s] \n",
      "100%|██████████| 42/42 [00:01<00:00, 28.46it/s]\n"
     ]
    },
    {
     "name": "stdout",
     "output_type": "stream",
     "text": [
      "Benchmark 50\n"
     ]
    },
    {
     "name": "stderr",
     "output_type": "stream",
     "text": [
      "100%|██████████| 46/46 [00:11<00:00,  4.14it/s]\n",
      "100%|██████████| 263/263 [00:03<00:00, 76.90it/s]\n",
      "100%|██████████| 46/46 [00:01<00:00, 27.55it/s]\n"
     ]
    },
    {
     "name": "stdout",
     "output_type": "stream",
     "text": [
      "Benchmark 51\n"
     ]
    },
    {
     "name": "stderr",
     "output_type": "stream",
     "text": [
      "100%|██████████| 50/50 [00:13<00:00,  3.67it/s]\n",
      "100%|██████████| 310/310 [00:03<00:00, 78.58it/s]\n",
      "100%|██████████| 50/50 [00:02<00:00, 23.31it/s]\n"
     ]
    },
    {
     "name": "stdout",
     "output_type": "stream",
     "text": [
      "Benchmark 52\n"
     ]
    },
    {
     "name": "stderr",
     "output_type": "stream",
     "text": [
      "100%|██████████| 48/48 [00:12<00:00,  3.76it/s]\n",
      "100%|██████████| 288/288 [00:03<00:00, 78.93it/s]\n",
      "100%|██████████| 48/48 [00:01<00:00, 25.08it/s]\n"
     ]
    },
    {
     "name": "stdout",
     "output_type": "stream",
     "text": [
      "Benchmark 53\n"
     ]
    },
    {
     "name": "stderr",
     "output_type": "stream",
     "text": [
      "100%|██████████| 44/44 [00:10<00:00,  4.18it/s]\n",
      "100%|██████████| 252/252 [00:03<00:00, 77.27it/s]\n",
      "100%|██████████| 44/44 [00:01<00:00, 26.58it/s]\n"
     ]
    },
    {
     "name": "stdout",
     "output_type": "stream",
     "text": [
      "Benchmark 54\n"
     ]
    },
    {
     "name": "stderr",
     "output_type": "stream",
     "text": [
      "100%|██████████| 46/46 [00:12<00:00,  3.59it/s]\n",
      "100%|██████████| 297/297 [00:03<00:00, 78.68it/s]\n",
      "100%|██████████| 46/46 [00:01<00:00, 23.18it/s]\n"
     ]
    },
    {
     "name": "stdout",
     "output_type": "stream",
     "text": [
      "Benchmark 55\n"
     ]
    },
    {
     "name": "stderr",
     "output_type": "stream",
     "text": [
      "100%|██████████| 49/49 [00:12<00:00,  3.80it/s]\n",
      "100%|██████████| 299/299 [00:03<00:00, 80.77it/s] \n",
      "100%|██████████| 49/49 [00:01<00:00, 24.73it/s]\n"
     ]
    },
    {
     "name": "stdout",
     "output_type": "stream",
     "text": [
      "Benchmark 56\n"
     ]
    },
    {
     "name": "stderr",
     "output_type": "stream",
     "text": [
      "100%|██████████| 45/45 [00:11<00:00,  3.97it/s]\n",
      "100%|██████████| 263/263 [00:03<00:00, 79.00it/s]\n",
      "100%|██████████| 45/45 [00:01<00:00, 26.88it/s]\n"
     ]
    },
    {
     "name": "stdout",
     "output_type": "stream",
     "text": [
      "Benchmark 57\n"
     ]
    },
    {
     "name": "stderr",
     "output_type": "stream",
     "text": [
      "100%|██████████| 47/47 [00:12<00:00,  3.84it/s]\n",
      "100%|██████████| 284/284 [00:03<00:00, 78.70it/s]\n",
      "100%|██████████| 47/47 [00:02<00:00, 23.26it/s]\n"
     ]
    },
    {
     "name": "stdout",
     "output_type": "stream",
     "text": [
      "Benchmark 58\n"
     ]
    },
    {
     "name": "stderr",
     "output_type": "stream",
     "text": [
      "100%|██████████| 42/42 [00:10<00:00,  3.86it/s]\n",
      "100%|██████████| 256/256 [00:03<00:00, 78.77it/s]\n",
      "100%|██████████| 42/42 [00:01<00:00, 26.27it/s]\n"
     ]
    },
    {
     "name": "stdout",
     "output_type": "stream",
     "text": [
      "Benchmark 59\n"
     ]
    },
    {
     "name": "stderr",
     "output_type": "stream",
     "text": [
      "100%|██████████| 44/44 [00:12<00:00,  3.52it/s]\n",
      "100%|██████████| 286/286 [00:03<00:00, 79.13it/s]\n",
      "100%|██████████| 44/44 [00:01<00:00, 23.65it/s]\n"
     ]
    },
    {
     "name": "stdout",
     "output_type": "stream",
     "text": [
      "Benchmark 60\n"
     ]
    },
    {
     "name": "stderr",
     "output_type": "stream",
     "text": [
      "100%|██████████| 45/45 [00:11<00:00,  3.94it/s]\n",
      "100%|██████████| 261/261 [00:03<00:00, 75.80it/s]\n",
      "100%|██████████| 45/45 [00:01<00:00, 26.37it/s]\n"
     ]
    },
    {
     "name": "stdout",
     "output_type": "stream",
     "text": [
      "Benchmark 61\n"
     ]
    },
    {
     "name": "stderr",
     "output_type": "stream",
     "text": [
      "100%|██████████| 47/47 [00:12<00:00,  3.71it/s]\n",
      "100%|██████████| 281/281 [00:03<00:00, 74.20it/s]\n",
      "100%|██████████| 47/47 [00:02<00:00, 22.86it/s]\n"
     ]
    },
    {
     "name": "stdout",
     "output_type": "stream",
     "text": [
      "Benchmark 62\n"
     ]
    },
    {
     "name": "stderr",
     "output_type": "stream",
     "text": [
      "100%|██████████| 45/45 [00:12<00:00,  3.51it/s]\n",
      "100%|██████████| 293/293 [00:03<00:00, 77.62it/s]\n",
      "100%|██████████| 45/45 [00:01<00:00, 23.55it/s]\n"
     ]
    },
    {
     "name": "stdout",
     "output_type": "stream",
     "text": [
      "Benchmark 63\n"
     ]
    },
    {
     "name": "stderr",
     "output_type": "stream",
     "text": [
      "100%|██████████| 47/47 [00:12<00:00,  3.77it/s]\n",
      "100%|██████████| 292/292 [00:03<00:00, 79.24it/s]\n",
      "100%|██████████| 47/47 [00:02<00:00, 22.77it/s]\n"
     ]
    },
    {
     "name": "stdout",
     "output_type": "stream",
     "text": [
      "Benchmark 64\n"
     ]
    },
    {
     "name": "stderr",
     "output_type": "stream",
     "text": [
      "100%|██████████| 45/45 [00:12<00:00,  3.65it/s]\n",
      "100%|██████████| 292/292 [00:03<00:00, 78.82it/s]\n",
      "100%|██████████| 45/45 [00:02<00:00, 21.28it/s]\n"
     ]
    },
    {
     "name": "stdout",
     "output_type": "stream",
     "text": [
      "Benchmark 65\n"
     ]
    },
    {
     "name": "stderr",
     "output_type": "stream",
     "text": [
      "100%|██████████| 48/48 [00:12<00:00,  3.97it/s]\n",
      "100%|██████████| 282/282 [00:03<00:00, 78.55it/s]\n",
      "100%|██████████| 48/48 [00:01<00:00, 26.35it/s]\n"
     ]
    },
    {
     "name": "stdout",
     "output_type": "stream",
     "text": [
      "Benchmark 66\n"
     ]
    },
    {
     "name": "stderr",
     "output_type": "stream",
     "text": [
      "100%|██████████| 47/47 [00:12<00:00,  3.83it/s]\n",
      "100%|██████████| 289/289 [00:03<00:00, 76.95it/s]\n",
      "100%|██████████| 47/47 [00:01<00:00, 25.10it/s]\n"
     ]
    },
    {
     "name": "stdout",
     "output_type": "stream",
     "text": [
      "Benchmark 67\n"
     ]
    },
    {
     "name": "stderr",
     "output_type": "stream",
     "text": [
      "100%|██████████| 45/45 [00:13<00:00,  3.33it/s]\n",
      "100%|██████████| 317/317 [00:04<00:00, 77.91it/s]\n",
      "100%|██████████| 45/45 [00:02<00:00, 19.03it/s]\n"
     ]
    },
    {
     "name": "stdout",
     "output_type": "stream",
     "text": [
      "Benchmark 68\n"
     ]
    },
    {
     "name": "stderr",
     "output_type": "stream",
     "text": [
      "100%|██████████| 47/47 [00:12<00:00,  3.85it/s]\n",
      "100%|██████████| 285/285 [00:03<00:00, 78.07it/s]\n",
      "100%|██████████| 47/47 [00:01<00:00, 24.94it/s]\n"
     ]
    },
    {
     "name": "stdout",
     "output_type": "stream",
     "text": [
      "Benchmark 69\n"
     ]
    },
    {
     "name": "stderr",
     "output_type": "stream",
     "text": [
      "100%|██████████| 47/47 [00:11<00:00,  3.99it/s]\n",
      "100%|██████████| 276/276 [00:03<00:00, 76.30it/s]\n",
      "100%|██████████| 47/47 [00:01<00:00, 25.49it/s]\n"
     ]
    },
    {
     "name": "stdout",
     "output_type": "stream",
     "text": [
      "Benchmark 70\n"
     ]
    },
    {
     "name": "stderr",
     "output_type": "stream",
     "text": [
      "100%|██████████| 46/46 [00:12<00:00,  3.78it/s]\n",
      "100%|██████████| 284/284 [00:03<00:00, 79.32it/s]\n",
      "100%|██████████| 46/46 [00:01<00:00, 23.93it/s]\n"
     ]
    },
    {
     "name": "stdout",
     "output_type": "stream",
     "text": [
      "Benchmark 71\n"
     ]
    },
    {
     "name": "stderr",
     "output_type": "stream",
     "text": [
      "100%|██████████| 45/45 [00:11<00:00,  3.91it/s]\n",
      "100%|██████████| 261/261 [00:03<00:00, 73.16it/s] \n",
      "100%|██████████| 45/45 [00:01<00:00, 28.48it/s]\n"
     ]
    },
    {
     "name": "stdout",
     "output_type": "stream",
     "text": [
      "Benchmark 72\n"
     ]
    },
    {
     "name": "stderr",
     "output_type": "stream",
     "text": [
      "100%|██████████| 48/48 [00:11<00:00,  4.26it/s]\n",
      "100%|██████████| 261/261 [00:03<00:00, 75.99it/s]\n",
      "100%|██████████| 48/48 [00:01<00:00, 26.48it/s]\n"
     ]
    },
    {
     "name": "stdout",
     "output_type": "stream",
     "text": [
      "Benchmark 73\n"
     ]
    },
    {
     "name": "stderr",
     "output_type": "stream",
     "text": [
      "100%|██████████| 44/44 [00:13<00:00,  3.35it/s]\n",
      "100%|██████████| 299/299 [00:03<00:00, 77.50it/s]\n",
      "100%|██████████| 44/44 [00:01<00:00, 22.45it/s]\n"
     ]
    },
    {
     "name": "stdout",
     "output_type": "stream",
     "text": [
      "Benchmark 74\n"
     ]
    },
    {
     "name": "stderr",
     "output_type": "stream",
     "text": [
      "100%|██████████| 45/45 [00:12<00:00,  3.66it/s]\n",
      "100%|██████████| 290/290 [00:03<00:00, 80.52it/s] \n",
      "100%|██████████| 45/45 [00:01<00:00, 24.54it/s]\n"
     ]
    },
    {
     "name": "stdout",
     "output_type": "stream",
     "text": [
      "Benchmark 75\n"
     ]
    },
    {
     "name": "stderr",
     "output_type": "stream",
     "text": [
      "100%|██████████| 48/48 [00:13<00:00,  3.63it/s]\n",
      "100%|██████████| 307/307 [00:03<00:00, 79.88it/s]\n",
      "100%|██████████| 48/48 [00:02<00:00, 23.27it/s]\n"
     ]
    },
    {
     "name": "stdout",
     "output_type": "stream",
     "text": [
      "Benchmark 76\n"
     ]
    },
    {
     "name": "stderr",
     "output_type": "stream",
     "text": [
      "100%|██████████| 47/47 [00:12<00:00,  3.75it/s]\n",
      "100%|██████████| 291/291 [00:03<00:00, 77.87it/s]\n",
      "100%|██████████| 47/47 [00:02<00:00, 22.79it/s]\n"
     ]
    },
    {
     "name": "stdout",
     "output_type": "stream",
     "text": [
      "Benchmark 77\n"
     ]
    },
    {
     "name": "stderr",
     "output_type": "stream",
     "text": [
      "100%|██████████| 47/47 [00:13<00:00,  3.39it/s]\n",
      "100%|██████████| 316/316 [00:03<00:00, 79.58it/s]\n",
      "100%|██████████| 47/47 [00:02<00:00, 22.29it/s]\n"
     ]
    },
    {
     "name": "stdout",
     "output_type": "stream",
     "text": [
      "Benchmark 78\n"
     ]
    },
    {
     "name": "stderr",
     "output_type": "stream",
     "text": [
      "100%|██████████| 45/45 [00:12<00:00,  3.75it/s]\n",
      "100%|██████████| 268/268 [00:03<00:00, 75.78it/s] \n",
      "100%|██████████| 45/45 [00:01<00:00, 26.24it/s]\n"
     ]
    },
    {
     "name": "stdout",
     "output_type": "stream",
     "text": [
      "Benchmark 79\n"
     ]
    },
    {
     "name": "stderr",
     "output_type": "stream",
     "text": [
      "100%|██████████| 45/45 [00:11<00:00,  3.80it/s]\n",
      "100%|██████████| 273/273 [00:03<00:00, 78.32it/s]\n",
      "100%|██████████| 45/45 [00:01<00:00, 25.81it/s]\n"
     ]
    },
    {
     "name": "stdout",
     "output_type": "stream",
     "text": [
      "Benchmark 80\n"
     ]
    },
    {
     "name": "stderr",
     "output_type": "stream",
     "text": [
      "100%|██████████| 46/46 [00:11<00:00,  4.16it/s]\n",
      "100%|██████████| 260/260 [00:03<00:00, 73.33it/s]\n",
      "100%|██████████| 46/46 [00:01<00:00, 27.51it/s]\n"
     ]
    },
    {
     "name": "stdout",
     "output_type": "stream",
     "text": [
      "Benchmark 81\n"
     ]
    },
    {
     "name": "stderr",
     "output_type": "stream",
     "text": [
      "100%|██████████| 46/46 [00:13<00:00,  3.51it/s]\n",
      "100%|██████████| 304/304 [00:04<00:00, 71.94it/s]\n",
      "100%|██████████| 46/46 [00:02<00:00, 21.71it/s]\n"
     ]
    },
    {
     "name": "stdout",
     "output_type": "stream",
     "text": [
      "Benchmark 82\n"
     ]
    },
    {
     "name": "stderr",
     "output_type": "stream",
     "text": [
      "100%|██████████| 49/49 [00:15<00:00,  3.22it/s]\n",
      "100%|██████████| 352/352 [00:04<00:00, 74.66it/s]\n",
      "100%|██████████| 49/49 [00:02<00:00, 19.34it/s]\n"
     ]
    },
    {
     "name": "stdout",
     "output_type": "stream",
     "text": [
      "Benchmark 83\n"
     ]
    },
    {
     "name": "stderr",
     "output_type": "stream",
     "text": [
      "100%|██████████| 46/46 [00:11<00:00,  4.13it/s]\n",
      "100%|██████████| 257/257 [00:03<00:00, 74.35it/s]\n",
      "100%|██████████| 46/46 [00:01<00:00, 27.85it/s]\n"
     ]
    },
    {
     "name": "stdout",
     "output_type": "stream",
     "text": [
      "Benchmark 84\n"
     ]
    },
    {
     "name": "stderr",
     "output_type": "stream",
     "text": [
      "100%|██████████| 46/46 [00:11<00:00,  4.00it/s]\n",
      "100%|██████████| 263/263 [00:03<00:00, 80.04it/s]\n",
      "100%|██████████| 46/46 [00:01<00:00, 28.25it/s]\n"
     ]
    },
    {
     "name": "stdout",
     "output_type": "stream",
     "text": [
      "Benchmark 85\n"
     ]
    },
    {
     "name": "stderr",
     "output_type": "stream",
     "text": [
      "100%|██████████| 46/46 [00:11<00:00,  3.86it/s]\n",
      "100%|██████████| 278/278 [00:03<00:00, 79.25it/s] \n",
      "100%|██████████| 46/46 [00:01<00:00, 25.10it/s]\n"
     ]
    },
    {
     "name": "stdout",
     "output_type": "stream",
     "text": [
      "Benchmark 86\n"
     ]
    },
    {
     "name": "stderr",
     "output_type": "stream",
     "text": [
      "100%|██████████| 47/47 [00:12<00:00,  3.73it/s]\n",
      "100%|██████████| 290/290 [00:03<00:00, 77.47it/s]\n",
      "100%|██████████| 47/47 [00:01<00:00, 24.92it/s]\n"
     ]
    },
    {
     "name": "stdout",
     "output_type": "stream",
     "text": [
      "Benchmark 87\n"
     ]
    },
    {
     "name": "stderr",
     "output_type": "stream",
     "text": [
      "100%|██████████| 45/45 [00:12<00:00,  3.68it/s]\n",
      "100%|██████████| 284/284 [00:03<00:00, 79.45it/s]\n",
      "100%|██████████| 45/45 [00:01<00:00, 24.61it/s]\n"
     ]
    },
    {
     "name": "stdout",
     "output_type": "stream",
     "text": [
      "Benchmark 88\n"
     ]
    },
    {
     "name": "stderr",
     "output_type": "stream",
     "text": [
      "100%|██████████| 44/44 [00:11<00:00,  3.72it/s]\n",
      "100%|██████████| 271/271 [00:03<00:00, 77.60it/s]\n",
      "100%|██████████| 44/44 [00:01<00:00, 25.47it/s]\n"
     ]
    },
    {
     "name": "stdout",
     "output_type": "stream",
     "text": [
      "Benchmark 89\n"
     ]
    },
    {
     "name": "stderr",
     "output_type": "stream",
     "text": [
      "100%|██████████| 50/50 [00:13<00:00,  3.60it/s]\n",
      "100%|██████████| 322/322 [00:04<00:00, 80.44it/s]\n",
      "100%|██████████| 50/50 [00:02<00:00, 21.60it/s]\n"
     ]
    },
    {
     "name": "stdout",
     "output_type": "stream",
     "text": [
      "Benchmark 90\n"
     ]
    },
    {
     "name": "stderr",
     "output_type": "stream",
     "text": [
      "100%|██████████| 46/46 [00:13<00:00,  3.40it/s]\n",
      "100%|██████████| 310/310 [00:03<00:00, 79.77it/s]\n",
      "100%|██████████| 46/46 [00:02<00:00, 21.02it/s]\n"
     ]
    },
    {
     "name": "stdout",
     "output_type": "stream",
     "text": [
      "Benchmark 91\n"
     ]
    },
    {
     "name": "stderr",
     "output_type": "stream",
     "text": [
      "100%|██████████| 44/44 [00:11<00:00,  3.70it/s]\n",
      "100%|██████████| 275/275 [00:03<00:00, 75.12it/s]\n",
      "100%|██████████| 44/44 [00:01<00:00, 24.68it/s]\n"
     ]
    },
    {
     "name": "stdout",
     "output_type": "stream",
     "text": [
      "Benchmark 92\n"
     ]
    },
    {
     "name": "stderr",
     "output_type": "stream",
     "text": [
      "100%|██████████| 45/45 [00:13<00:00,  3.38it/s]\n",
      "100%|██████████| 312/312 [00:03<00:00, 80.95it/s]\n",
      "100%|██████████| 45/45 [00:02<00:00, 20.89it/s]\n"
     ]
    },
    {
     "name": "stdout",
     "output_type": "stream",
     "text": [
      "Benchmark 93\n"
     ]
    },
    {
     "name": "stderr",
     "output_type": "stream",
     "text": [
      "100%|██████████| 47/47 [00:13<00:00,  3.60it/s]\n",
      "100%|██████████| 300/300 [00:03<00:00, 80.46it/s] \n",
      "100%|██████████| 47/47 [00:02<00:00, 23.10it/s]\n"
     ]
    },
    {
     "name": "stdout",
     "output_type": "stream",
     "text": [
      "Benchmark 94\n"
     ]
    },
    {
     "name": "stderr",
     "output_type": "stream",
     "text": [
      "100%|██████████| 46/46 [00:14<00:00,  3.23it/s]\n",
      "100%|██████████| 318/318 [00:03<00:00, 79.81it/s]\n",
      "100%|██████████| 46/46 [00:02<00:00, 20.90it/s]\n"
     ]
    },
    {
     "name": "stdout",
     "output_type": "stream",
     "text": [
      "Benchmark 95\n"
     ]
    },
    {
     "name": "stderr",
     "output_type": "stream",
     "text": [
      "100%|██████████| 48/48 [00:13<00:00,  3.52it/s]\n",
      "100%|██████████| 315/315 [00:04<00:00, 78.33it/s]\n",
      "100%|██████████| 48/48 [00:02<00:00, 21.38it/s]\n"
     ]
    },
    {
     "name": "stdout",
     "output_type": "stream",
     "text": [
      "Benchmark 96\n"
     ]
    },
    {
     "name": "stderr",
     "output_type": "stream",
     "text": [
      "100%|██████████| 47/47 [00:11<00:00,  4.01it/s]\n",
      "100%|██████████| 269/269 [00:03<00:00, 67.86it/s]\n",
      "100%|██████████| 47/47 [00:01<00:00, 25.58it/s]\n"
     ]
    },
    {
     "name": "stdout",
     "output_type": "stream",
     "text": [
      "Benchmark 97\n"
     ]
    },
    {
     "name": "stderr",
     "output_type": "stream",
     "text": [
      "100%|██████████| 44/44 [00:12<00:00,  3.49it/s]\n",
      "100%|██████████| 293/293 [00:03<00:00, 77.56it/s]\n",
      "100%|██████████| 44/44 [00:01<00:00, 22.99it/s]\n"
     ]
    },
    {
     "name": "stdout",
     "output_type": "stream",
     "text": [
      "Benchmark 98\n"
     ]
    },
    {
     "name": "stderr",
     "output_type": "stream",
     "text": [
      "100%|██████████| 49/49 [00:15<00:00,  3.13it/s]\n",
      "100%|██████████| 359/359 [00:04<00:00, 77.56it/s]\n",
      "100%|██████████| 49/49 [00:02<00:00, 18.82it/s]\n"
     ]
    },
    {
     "name": "stdout",
     "output_type": "stream",
     "text": [
      "Benchmark 99\n"
     ]
    },
    {
     "name": "stderr",
     "output_type": "stream",
     "text": [
      "100%|██████████| 48/48 [00:12<00:00,  3.74it/s]\n",
      "100%|██████████| 295/295 [00:03<00:00, 79.61it/s]\n",
      "100%|██████████| 48/48 [00:01<00:00, 24.20it/s]\n"
     ]
    }
   ],
   "source": [
    "# Execute evaluation on 100 random test sets\n",
    "results = []\n",
    "for i in range(100):\n",
    "    print(f\"Benchmark {i}\")\n",
    "    test_scenes = gen_test_set(50)\n",
    "    output = run_command(eval_cmd,\n",
    "                         cwd='/mnt/c/Users/ruben/Documents/VUB/CurrentTrendsOfAI/PoseGraphAnomalyDetection/STG-NF',\n",
    "                         return_output=True)\n",
    "    for line in output:\n",
    "        if 'Done with' in line:\n",
    "            split_line = line.split(' ')\n",
    "            accuracy, samples = split_line[3], split_line[6]\n",
    "            data_dict = {\n",
    "                'accuracy': accuracy,\n",
    "                'n_samples': samples,\n",
    "                'scenes_used': test_scenes\n",
    "            }\n",
    "            results.append(data_dict)\n",
    "            break"
   ]
  },
  {
   "cell_type": "code",
   "execution_count": null,
   "id": "d2729510-f0cf-41ad-b9ea-cab7016065f9",
   "metadata": {},
   "outputs": [],
   "source": []
  },
  {
   "cell_type": "code",
   "execution_count": 24,
   "id": "a7b9d069-d730-42c6-a983-4bc13f8af340",
   "metadata": {},
   "outputs": [],
   "source": [
    "pd.DataFrame(results).to_csv(f'./benchmark_{model}.csv', index=False)"
   ]
  },
  {
   "cell_type": "code",
   "execution_count": null,
   "id": "d0e82c4a-03a0-4c36-bf63-3536dae3001c",
   "metadata": {},
   "outputs": [],
   "source": []
  },
  {
   "cell_type": "code",
   "execution_count": null,
   "id": "3dcc3719-7a72-46fe-9666-a3506b11497c",
   "metadata": {},
   "outputs": [],
   "source": []
  },
  {
   "cell_type": "code",
   "execution_count": null,
   "id": "f345cc42-df9b-4e46-9c15-6a312da39dba",
   "metadata": {},
   "outputs": [],
   "source": []
  },
  {
   "cell_type": "code",
   "execution_count": null,
   "id": "e2b28581-0f91-46ba-b0ed-0188529bf070",
   "metadata": {},
   "outputs": [],
   "source": []
  }
 ],
 "metadata": {
  "kernelspec": {
   "display_name": "Python 3 (ipykernel)",
   "language": "python",
   "name": "python3"
  },
  "language_info": {
   "codemirror_mode": {
    "name": "ipython",
    "version": 3
   },
   "file_extension": ".py",
   "mimetype": "text/x-python",
   "name": "python",
   "nbconvert_exporter": "python",
   "pygments_lexer": "ipython3",
   "version": "3.8.13"
  }
 },
 "nbformat": 4,
 "nbformat_minor": 5
}
