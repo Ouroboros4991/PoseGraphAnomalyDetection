{
 "cells": [
  {
   "cell_type": "code",
   "execution_count": 1,
   "id": "a9ba1fde-9178-40e5-90b6-3e07bc47f7b0",
   "metadata": {},
   "outputs": [],
   "source": [
    "import os\n",
    "import pandas as pd\n",
    "import json\n",
    "import random\n",
    "import shutil\n",
    "import numpy as np\n",
    "import pathlib\n",
    "import pickle"
   ]
  },
  {
   "cell_type": "code",
   "execution_count": null,
   "id": "ab4ce3aa-8eac-4b10-8833-3dbcb43cab99",
   "metadata": {},
   "outputs": [],
   "source": []
  },
  {
   "cell_type": "code",
   "execution_count": 2,
   "id": "3316b196-1702-4aee-ab3a-52357528bf17",
   "metadata": {},
   "outputs": [],
   "source": [
    "source_pose_dir = './raw_data/UBnormal/poses'\n",
    "source_annotations_dir = './raw_data/UBnormal/annotations'"
   ]
  },
  {
   "cell_type": "code",
   "execution_count": 34,
   "id": "b7f07e8b-4836-4cae-afd1-1e8cb19dc9a9",
   "metadata": {},
   "outputs": [],
   "source": [
    "dst_pose_dir = './TrajREC/data/UBnormal/testing/trajectories'\n",
    "dst_annotations_dir = './TrajREC/data/UBnormal/testing/frame_level_masks'"
   ]
  },
  {
   "cell_type": "code",
   "execution_count": 8,
   "id": "054378c5-6d43-41c3-b71b-780bffebc708",
   "metadata": {},
   "outputs": [],
   "source": [
    "def get_jsons(directory: str):\n",
    "    \"\"\"Function that exctracts the mp4 files from the given directory\n",
    "    and returns the path to the video and it's annotations\n",
    "    \"\"\"\n",
    "    filelist = [];\n",
    "    for root, dirs, files in os.walk(directory):\n",
    "        for file in files:\n",
    "            if file.endswith('tracked_person.json'):\n",
    "                json_file = os.path.join(root,file)\n",
    "                filelist.append(json_file)\n",
    "    return filelist\n",
    "\n",
    "def get_mp4s(directory: str):\n",
    "    \"\"\"Function that exctracts the mp4 files from the given directory\n",
    "    and returns the path to the video and it's annotations\n",
    "    \"\"\"\n",
    "    filelist = [];\n",
    "    for root, dirs, files in os.walk(directory):\n",
    "        for file in files:\n",
    "            if file.endswith('.mp4'):\n",
    "                json_file = os.path.join(root,file)\n",
    "                filelist.append(json_file)\n",
    "    return filelist\n",
    "\n",
    "def remove_files(directory: str):\n",
    "    try:\n",
    "        shutil.rmtree(directory)\n",
    "    except FileNotFoundError:\n",
    "        pass\n",
    "\n",
    "def convert_lines_annotation_to_mask(annotations):\n",
    "    filters = []\n",
    "    for line in annotations:\n",
    "        _, start_frame, end_frame = line.split(',')\n",
    "        # Use float to avoid issues with scientific notation\n",
    "        filters.append(\n",
    "                (\n",
    "                    int(float(start_frame)),\n",
    "                    int(float(end_frame))\n",
    "                )\n",
    "        )\n",
    "    \n",
    "    mask = [1] * 451\n",
    "    for i in range(451):\n",
    "        for start, end in filters:\n",
    "            if start <= i <= end:\n",
    "                mask[i] = 0\n",
    "    return mask\n"
   ]
  },
  {
   "cell_type": "code",
   "execution_count": null,
   "id": "5c54bbba-7be5-4ade-b78a-4de3d3369fc3",
   "metadata": {
    "scrolled": true
   },
   "outputs": [],
   "source": []
  },
  {
   "cell_type": "code",
   "execution_count": 6,
   "id": "8c15df97-89ab-4145-bed3-c520d1b8f475",
   "metadata": {
    "scrolled": true
   },
   "outputs": [],
   "source": [
    "json_files = get_jsons(source_pose_dir)\n",
    "# mp4_files = get_mp4s(source_video_dir)\n",
    "# mp4_dict = {f.split('/')[-1].split('.')[0]: f for f in mp4_files}"
   ]
  },
  {
   "cell_type": "code",
   "execution_count": null,
   "id": "beb40c1e-dd1a-48bd-b998-b26a979dd041",
   "metadata": {},
   "outputs": [],
   "source": []
  },
  {
   "cell_type": "code",
   "execution_count": null,
   "id": "60a0dc0f-165a-450d-ac0a-724e271540cd",
   "metadata": {
    "scrolled": true
   },
   "outputs": [],
   "source": []
  },
  {
   "cell_type": "code",
   "execution_count": 68,
   "id": "d89f3d58-d8ab-41a3-af9b-8d025dfd4f2f",
   "metadata": {
    "scrolled": true
   },
   "outputs": [],
   "source": [
    "remove_files(dst_pose_dir)\n",
    "\n",
    "# Avoid issue due to invalid track.txt format\n",
    "test_scenes = []\n",
    "while len(test_scenes) < 25:\n",
    "    scene = random.choices(json_files, k=1)[0]\n",
    "\n",
    "    # Validate that the scene contains a trajectory\n",
    "    with open(scene) as f:\n",
    "        tracking = json.load(f)\n",
    "        if not tracking:\n",
    "            continue\n",
    "    pose_file_name = scene.split('/')[-1]\n",
    "    video_name = '_'.join(pose_file_name.split('-')[0].split('_')[0:-3])\n",
    "    # Check if the annotation file exists\n",
    "    annotation_file = f'./raw_data/UBnormal/annotations/{video_name}_tracks.txt'\n",
    "    try:\n",
    "        np.load(annotation_file, allow_pickle=True)\n",
    "    except pickle.UnpicklingError:\n",
    "        # The files with a different format will be handled down the line\n",
    "        pass\n",
    "    except FileNotFoundError:\n",
    "        continue\n",
    "    if scene not in test_scenes:\n",
    "        test_scenes.append(scene)"
   ]
  },
  {
   "cell_type": "code",
   "execution_count": null,
   "id": "abbdf6ca-853d-44df-9592-fd847276e965",
   "metadata": {
    "scrolled": true
   },
   "outputs": [],
   "source": []
  },
  {
   "cell_type": "code",
   "execution_count": 64,
   "id": "8a486c88-bdcb-44a5-b42a-3ad64b09890f",
   "metadata": {},
   "outputs": [],
   "source": [
    "remove_files(dst_pose_dir)\n",
    "remove_files(dst_annotations_dir)"
   ]
  },
  {
   "cell_type": "code",
   "execution_count": 69,
   "id": "51009ccc-7e78-45ee-b486-1895d8708fe3",
   "metadata": {
    "scrolled": true
   },
   "outputs": [],
   "source": [
    "# File structure:\n",
    "# testing/trajectories/video_id/*.csv\n",
    "# video used in the repo is {flag}{scene_number}_{scenarion_number}\n",
    "# 1 csv per detected person\n",
    "remove_files(dst_pose_dir)\n",
    "remove_files(dst_annotations_dir)\n",
    "for pose_file_name in test_scenes:\n",
    "    video_name = '_'.join(pose_file_name.split('/')[-1].split('-')[0].split('_')[0:-3])\n",
    "    \n",
    "    with open(pose_file_name) as f:\n",
    "        tracking = json.load(f)\n",
    "    data_dict = {}\n",
    "    for traj_id, traj in tracking.items():\n",
    "        csv_data = []\n",
    "        for frame, data in traj.items():\n",
    "            csv_record = [frame]\n",
    "            key_points = data['keypoints']\n",
    "            for i in range(0, len(key_points), 3):\n",
    "                x = float(key_points[i])\n",
    "                y = float(key_points[i+1])\n",
    "                # Skip processing the confidence\n",
    "                csv_record.append(x)\n",
    "                csv_record.append(y)\n",
    "            csv_data.append(csv_record)\n",
    "        data_dict[traj_id] = csv_data\n",
    "    for traj_id, csv_data in data_dict.items():\n",
    "        # Skip records with a short trajectory\n",
    "        if len(csv_data) < 12:\n",
    "            continue\n",
    "        df = pd.DataFrame(csv_data)\n",
    "        track_dir = f'{dst_pose_dir}/{video_name.replace(\"_\", \"\")}_{traj_id}'\n",
    "        pathlib.Path(track_dir).mkdir(parents=True, exist_ok=True)\n",
    "        track_target_file = f'{track_dir}/{video_name.replace(\"_\", \"\")}_{traj_id}.csv'\n",
    "        # print(f'Writing trajectory to {track_target_file}')\n",
    "        df.to_csv(track_target_file, index=False)\n",
    "\n",
    "        # Copy annotation:\n",
    "        annotation_file = f'./raw_data/UBnormal/annotations/{video_name}_tracks.txt'\n",
    "        try:\n",
    "            mask = np.load(annotation_file, allow_pickle=True)\n",
    "        except pickle.UnpicklingError:\n",
    "            with open(annotation_file) as f:\n",
    "                annotations = [line.strip() for line in f.readlines()]\n",
    "            mask = convert_lines_annotation_to_mask(annotations)\n",
    "        annotation_dir = f'{dst_annotations_dir}/{video_name.replace(\"_\", \"\")}_{traj_id}'\n",
    "        pathlib.Path(annotation_dir).mkdir(parents=True, exist_ok=True)\n",
    "        annotations_file = f'{annotation_dir}/{video_name.replace(\"_\", \"\")}_{traj_id}.npy'\n",
    "        np.save(file=annotations_file, arr=mask, allow_pickle=True)"
   ]
  },
  {
   "cell_type": "code",
   "execution_count": null,
   "id": "110840d8-81e9-4c5d-93ec-0c197cb62c23",
   "metadata": {},
   "outputs": [],
   "source": []
  },
  {
   "cell_type": "code",
   "execution_count": null,
   "id": "7a633624-c544-424c-a844-62733c0d098f",
   "metadata": {},
   "outputs": [],
   "source": []
  },
  {
   "cell_type": "code",
   "execution_count": null,
   "id": "bdb7cd94-897c-46c5-b967-c629a8ddce65",
   "metadata": {},
   "outputs": [],
   "source": []
  }
 ],
 "metadata": {
  "kernelspec": {
   "display_name": "Python 3 (ipykernel)",
   "language": "python",
   "name": "python3"
  },
  "language_info": {
   "codemirror_mode": {
    "name": "ipython",
    "version": 3
   },
   "file_extension": ".py",
   "mimetype": "text/x-python",
   "name": "python",
   "nbconvert_exporter": "python",
   "pygments_lexer": "ipython3",
   "version": "3.8.13"
  }
 },
 "nbformat": 4,
 "nbformat_minor": 5
}
