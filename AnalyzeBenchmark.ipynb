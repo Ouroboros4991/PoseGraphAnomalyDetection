{
 "cells": [
  {
   "cell_type": "code",
   "execution_count": 3,
   "id": "b388170e-0384-43b2-b0b1-852c4ec6370e",
   "metadata": {},
   "outputs": [],
   "source": [
    "import pandas as pd\n",
    "import numpy as np\n",
    "import os"
   ]
  },
  {
   "cell_type": "code",
   "execution_count": 4,
   "id": "817a8ae8-dbdb-4104-a4c0-3eda7a2e5f47",
   "metadata": {},
   "outputs": [],
   "source": [
    "def get_files_with_suffix(directory: str, suffix: str):\n",
    "    \"\"\"Function that extracts the files from the given directory\n",
    "    that ends with the suffix\n",
    "    \"\"\"\n",
    "    filelist = [];\n",
    "    for root, dirs, files in os.walk(directory):\n",
    "        for file in files:\n",
    "            if file.endswith(suffix):\n",
    "                json_file = os.path.join(root,file)\n",
    "                filelist.append(json_file)\n",
    "    return filelist"
   ]
  },
  {
   "cell_type": "code",
   "execution_count": 5,
   "id": "5c712def-318d-49c1-a69e-998a1ecf8140",
   "metadata": {},
   "outputs": [],
   "source": [
    "benchmark_results = get_files_with_suffix('./benchmark_results', '.csv')"
   ]
  },
  {
   "cell_type": "code",
   "execution_count": 13,
   "id": "855b95ca-2cbb-473b-8d6f-0da865fe7b3b",
   "metadata": {
    "scrolled": true
   },
   "outputs": [
    {
     "name": "stdout",
     "output_type": "stream",
     "text": [
      "File ./benchmark_results/STG-NF/own-poses/benchmark_UBnormal_supervised_79_2.csv\n",
      "Accuracy 77.79823187809883 17.217081805563758\n",
      "File ./benchmark_results/STG-NF/own-poses/benchmark_UBnormal_unsupervised_71_8.csv\n",
      "Accuracy 72.26401776564626 15.915883666620037\n",
      "File ./benchmark_results/STG-NF/stg-poses/benchmark_UBnormal_supervised_79_2.csv\n",
      "Accuracy 78.57036044430293 16.180928156493938\n",
      "File ./benchmark_results/STG-NF/stg-poses/benchmark_UBnormal_unsupervised_71_8.csv\n",
      "Accuracy 73.502293102531 18.314282691265618\n",
      "File ./benchmark_results/TrajREC/own-Poses/benchmark_HRAve_ckpt.csv\n",
      "AUC 0.7331859999999999 0.0004904590040000001\n",
      "File ./benchmark_results/TrajREC/own-Poses/benchmark_HRSTC_ckpt.csv\n",
      "AUC 0.735088 0.0006310006559999998\n",
      "File ./benchmark_results/TrajREC/own_poses/benchmark_HRAve_ckpt.csv\n",
      "File ./benchmark_results/TrajREC/own_poses/benchmark_HRSTC_ckpt.csv\n",
      "File ./benchmark_results/TrajREC/STG-Poses/benchmark_HRAve_ckpt.csv\n",
      "AUC 0.6942059999999999 0.000666520164\n",
      "File ./benchmark_results/TrajREC/STG-Poses/benchmark_HRSTC_ckpt.csv\n",
      "AUC 0.700275 0.0007434770749999999\n"
     ]
    }
   ],
   "source": [
    "for file in benchmark_results:\n",
    "    df_test = pd.read_csv(file)\n",
    "    print('File', file)\n",
    "    if 'accuracy' in df_test.columns:\n",
    "        df_test['accuracy'] = df_test['accuracy'].apply(lambda x: float(x.replace('%', '')))\n",
    "        print('Accuracy', df_test.accuracy.mean(), np.var(df_test.accuracy))\n",
    "    elif 'AUC' in df_test.columns:\n",
    "        df_test['AUC'] = df_test['AUC'].apply(lambda x: float(x.replace(']', '')))\n",
    "        print('AUC', df_test.AUC.mean(), np.var(df_test.AUC))"
   ]
  },
  {
   "cell_type": "code",
   "execution_count": 12,
   "id": "499626cf-4217-4f6d-b896-b057deae4cad",
   "metadata": {
    "scrolled": true
   },
   "outputs": [
    {
     "data": {
      "text/plain": [
       "(100, 3)"
      ]
     },
     "execution_count": 12,
     "metadata": {},
     "output_type": "execute_result"
    }
   ],
   "source": []
  },
  {
   "cell_type": "code",
   "execution_count": null,
   "id": "430150ba-ee4d-4e6a-9d1b-ae047967aaf2",
   "metadata": {},
   "outputs": [],
   "source": []
  },
  {
   "cell_type": "code",
   "execution_count": null,
   "id": "94a3ddd0-b86f-47b4-b8e4-c32d5a19f008",
   "metadata": {},
   "outputs": [],
   "source": []
  }
 ],
 "metadata": {
  "kernelspec": {
   "display_name": "Python 3 (ipykernel)",
   "language": "python",
   "name": "python3"
  },
  "language_info": {
   "codemirror_mode": {
    "name": "ipython",
    "version": 3
   },
   "file_extension": ".py",
   "mimetype": "text/x-python",
   "name": "python",
   "nbconvert_exporter": "python",
   "pygments_lexer": "ipython3",
   "version": "3.8.13"
  }
 },
 "nbformat": 4,
 "nbformat_minor": 5
}
