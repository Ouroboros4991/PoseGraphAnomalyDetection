{
 "cells": [
  {
   "cell_type": "code",
   "execution_count": 14,
   "id": "a9ba1fde-9178-40e5-90b6-3e07bc47f7b0",
   "metadata": {},
   "outputs": [],
   "source": [
    "import os\n",
    "import pandas as pd\n",
    "import json\n",
    "import random\n",
    "import shutil\n",
    "import numpy as np"
   ]
  },
  {
   "cell_type": "code",
   "execution_count": 15,
   "id": "3316b196-1702-4aee-ab3a-52357528bf17",
   "metadata": {},
   "outputs": [],
   "source": [
    "source_pose_dic = './UBNormalAlphaPoseOutput'\n",
    "source_video_dic = './data/UBnormal'"
   ]
  },
  {
   "cell_type": "code",
   "execution_count": 56,
   "id": "b7f07e8b-4836-4cae-afd1-1e8cb19dc9a9",
   "metadata": {},
   "outputs": [],
   "source": [
    "dst_pose_dic = './STG-NF/data/UBnormal/pose/test'\n",
    "dst_video_dic = './STG-NF/data/UBnormal/videos'"
   ]
  },
  {
   "cell_type": "code",
   "execution_count": 45,
   "id": "054378c5-6d43-41c3-b71b-780bffebc708",
   "metadata": {},
   "outputs": [],
   "source": [
    "def get_jsons(directory: str):\n",
    "    \"\"\"Function that exctracts the mp4 files from the given directory\n",
    "    and returns the path to the video and it's annotations\n",
    "    \"\"\"\n",
    "    filelist = [];\n",
    "    for root, dirs, files in os.walk(directory):\n",
    "        for file in files:\n",
    "            if file.endswith('tracked_person.json'):\n",
    "                json_file = os.path.join(root,file)\n",
    "                filelist.append(json_file)\n",
    "    return filelist\n",
    "\n",
    "def get_mp4s(directory: str):\n",
    "    \"\"\"Function that exctracts the mp4 files from the given directory\n",
    "    and returns the path to the video and it's annotations\n",
    "    \"\"\"\n",
    "    filelist = [];\n",
    "    for root, dirs, files in os.walk(directory):\n",
    "        for file in files:\n",
    "            if file.endswith('.mp4'):\n",
    "                json_file = os.path.join(root,file)\n",
    "                filelist.append(json_file)\n",
    "    return filelist\n",
    "\n",
    "def remove_files(directory: str):\n",
    "    for root, dirs, files in os.walk(directory):\n",
    "        for file in files:\n",
    "           file_path = os.path.join(root, file)\n",
    "           if os.path.isfile(file_path):\n",
    "             os.remove(file_path)"
   ]
  },
  {
   "cell_type": "code",
   "execution_count": null,
   "id": "5c54bbba-7be5-4ade-b78a-4de3d3369fc3",
   "metadata": {},
   "outputs": [],
   "source": []
  },
  {
   "cell_type": "code",
   "execution_count": 42,
   "id": "8c15df97-89ab-4145-bed3-c520d1b8f475",
   "metadata": {
    "scrolled": true
   },
   "outputs": [],
   "source": [
    "json_files = get_jsons(source_pose_dic)\n",
    "mp4_files = get_mp4s(source_video_dic)"
   ]
  },
  {
   "cell_type": "code",
   "execution_count": 43,
   "id": "beb40c1e-dd1a-48bd-b998-b26a979dd041",
   "metadata": {},
   "outputs": [],
   "source": [
    "mp4_dict = {f.split('/')[-1].split('.')[0]: f for f in mp4_files}"
   ]
  },
  {
   "cell_type": "code",
   "execution_count": null,
   "id": "0f2a7e76-a1bc-4eed-b585-a1157f6b5155",
   "metadata": {},
   "outputs": [],
   "source": []
  },
  {
   "cell_type": "code",
   "execution_count": 50,
   "id": "60a0dc0f-165a-450d-ac0a-724e271540cd",
   "metadata": {
    "scrolled": true
   },
   "outputs": [],
   "source": [
    "examples_to_be_moved = random.choices(json_files, k=100)"
   ]
  },
  {
   "cell_type": "code",
   "execution_count": 70,
   "id": "d89f3d58-d8ab-41a3-af9b-8d025dfd4f2f",
   "metadata": {
    "scrolled": true
   },
   "outputs": [],
   "source": [
    "# Avoid issue due to invalid track.txt format\n",
    "test_scenes = []\n",
    "while len(test_scenes) < 100:\n",
    "    scene = random.choices(json_files, k=1)[0]\n",
    "    pose_file_name = scene.split('/')[-1]\n",
    "    video_name = '_'.join(pose_file_name.split('-')[0].split('_')[0:-3])\n",
    "    try:\n",
    "        np.load(f'./STG-NF/data/UBnormal/gt/{video_name}_tracks.txt', allow_pickle=True)\n",
    "        if scene not in test_scenes:\n",
    "            test_scenes.append(scene)\n",
    "    except:\n",
    "        pass"
   ]
  },
  {
   "cell_type": "code",
   "execution_count": null,
   "id": "51009ccc-7e78-45ee-b486-1895d8708fe3",
   "metadata": {},
   "outputs": [],
   "source": []
  },
  {
   "cell_type": "code",
   "execution_count": 71,
   "id": "110840d8-81e9-4c5d-93ec-0c197cb62c23",
   "metadata": {},
   "outputs": [],
   "source": [
    "remove_files(dst_pose_dic)\n",
    "remove_files(dst_video_dic)\n",
    "for pose_file in test_scenes:\n",
    "    pose_file_name = pose_file.split('/')[-1]\n",
    "    video_name = '_'.join(pose_file_name.split('-')[0].split('_')[0:-3])\n",
    "    video_file = mp4_dict[video_name]\n",
    "    pose_dest = os.path.join(dst_pose_dic, pose_file_name)\n",
    "    video_dest = os.path.join(dst_video_dic, f'{video_name}.mp4')\n",
    "    shutil.copyfile(pose_file, pose_dest)\n",
    "    shutil.copyfile(video_file, video_dest)"
   ]
  },
  {
   "cell_type": "code",
   "execution_count": null,
   "id": "52aeddb2-3703-4f89-87eb-b83483df1715",
   "metadata": {},
   "outputs": [],
   "source": []
  },
  {
   "cell_type": "code",
   "execution_count": null,
   "id": "272239ea-ebd5-4b90-80ba-a81533a5b870",
   "metadata": {},
   "outputs": [],
   "source": []
  }
 ],
 "metadata": {
  "kernelspec": {
   "display_name": "Python 3 (ipykernel)",
   "language": "python",
   "name": "python3"
  },
  "language_info": {
   "codemirror_mode": {
    "name": "ipython",
    "version": 3
   },
   "file_extension": ".py",
   "mimetype": "text/x-python",
   "name": "python",
   "nbconvert_exporter": "python",
   "pygments_lexer": "ipython3",
   "version": "3.8.13"
  }
 },
 "nbformat": 4,
 "nbformat_minor": 5
}
