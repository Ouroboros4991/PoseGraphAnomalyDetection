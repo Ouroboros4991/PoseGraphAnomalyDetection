{
 "cells": [
  {
   "cell_type": "code",
   "execution_count": null,
   "id": "a9ba1fde-9178-40e5-90b6-3e07bc47f7b0",
   "metadata": {},
   "outputs": [],
   "source": [
    "import os\n",
    "import pandas as pd\n",
    "import json\n",
    "import networkx as nx \n",
    "import matplotlib.pyplot as plt \n",
    "import itertools\n",
    "import math\n",
    "import numpy as np"
   ]
  },
  {
   "cell_type": "code",
   "execution_count": null,
   "id": "3316b196-1702-4aee-ab3a-52357528bf17",
   "metadata": {},
   "outputs": [],
   "source": [
    "POSE_DIR = './raw_data/UBnormal/poses_stg'"
   ]
  },
  {
   "cell_type": "code",
   "execution_count": null,
   "id": "5eebc22c-acc7-40ac-8e3b-441ea20e8a75",
   "metadata": {},
   "outputs": [],
   "source": [
    "# Source https://github.com/MVIG-SJTU/AlphaPose/blob/master/docs/output.md\n",
    "raw_order = [\n",
    "    {0,  \"Nose\"},\n",
    "    {1,  \"LEye\"},\n",
    "    {2,  \"REye\"},\n",
    "    {3,  \"LEar\"},\n",
    "    {4,  \"REar\"},\n",
    "    {5,  \"LShoulder\"},\n",
    "    {6,  \"RShoulder\"},\n",
    "    {7,  \"LElbow\"},\n",
    "    {8,  \"RElbow\"},\n",
    "    {9,  \"LWrist\"},\n",
    "    {10, \"RWrist\"},\n",
    "    {11, \"LHip\"},\n",
    "    {12, \"RHip\"},\n",
    "    {13, \"LKnee\"},\n",
    "    {14, \"Rknee\"},\n",
    "    {15, \"LAnkle\"},\n",
    "    {16, \"RAnkle\"},\n",
    "]\n",
    "order = []\n",
    "for s in raw_order:\n",
    "    for item in s:\n",
    "        if isinstance(item, str):\n",
    "            order.append(item)\n",
    "            break"
   ]
  },
  {
   "cell_type": "code",
   "execution_count": null,
   "id": "9bf7a218-c60e-4f5e-bb85-43f1578b1562",
   "metadata": {},
   "outputs": [],
   "source": []
  },
  {
   "cell_type": "code",
   "execution_count": null,
   "id": "1a86b55a-a943-4799-a95f-76bff6928336",
   "metadata": {
    "scrolled": true
   },
   "outputs": [],
   "source": []
  },
  {
   "cell_type": "code",
   "execution_count": null,
   "id": "054378c5-6d43-41c3-b71b-780bffebc708",
   "metadata": {},
   "outputs": [],
   "source": [
    "def get_files_with_suffix(directory: str, suffix: str):\n",
    "    \"\"\"Function that extracts the files from the given directory\n",
    "    that ends with the suffix\n",
    "    \"\"\"\n",
    "    filelist = [];\n",
    "    for root, dirs, files in os.walk(directory):\n",
    "        for file in files:\n",
    "            if file.endswith(suffix):\n",
    "                json_file = os.path.join(root,file)\n",
    "                filelist.append(json_file)\n",
    "    return filelist\n",
    "\n",
    "def generate_pose_df(pose_dir: str):\n",
    "    \"\"\"Load all poses into a single dataframe\n",
    "\n",
    "    Args:\n",
    "        pose_dir (str): Directory where the pose files are stored\n",
    "\n",
    "    Returns:\n",
    "        dataframe: Dataframe containing the pose data.\n",
    "    \"\"\"\n",
    "    dfs = []\n",
    "    json_files = get_files_with_suffix(pose_dir, 'alphapose_tracked_person.json')\n",
    "    for file in json_files:\n",
    "        video_name = '_'.join(file.split('/')[-1].split('_')[:-3])\n",
    "        with open(file) as f:\n",
    "            tracking_dict = json.load(f)\n",
    "        pose_data = []\n",
    "        for obj_id, frames in tracking_dict.items():\n",
    "            for frame_id, kp_data in frames.items():\n",
    "                pose_data.append(\n",
    "                    {\n",
    "                        'video': video_name,\n",
    "                        'image_id': frame_id,\n",
    "                        'keypoints': kp_data['keypoints'],\n",
    "                        'score': kp_data['scores']\n",
    "                    }\n",
    "                )\n",
    "        if not pose_data:\n",
    "            print(f'No pose data found for {video_name}')\n",
    "        else:\n",
    "            df = pd.DataFrame(pose_data)\n",
    "            df = df[['video', 'image_id', 'keypoints', 'score']]\n",
    "            dfs.append(df)\n",
    "    df_overview = pd.concat(dfs, ignore_index=True)\n",
    "    return df_overview\n",
    "\n",
    "def get_statistics(arr: list) -> dict:\n",
    "    \"\"\"Calculate the quartiles, variance, number of items and number of low scoring items\n",
    "    for the given array\n",
    "\n",
    "    Args:\n",
    "        arr (list): List of scores or confidence values\n",
    "\n",
    "    Returns:\n",
    "        dict: Dictionary containing the statistics\n",
    "    \"\"\"\n",
    "    arr = np.array(arr)\n",
    "    quatiles = {}\n",
    "    for item in (0.25,0.50, 0.75):\n",
    "        quatiles[item] = np.quantile(arr, item)\n",
    "    \n",
    "    # Get number of outliers in boxplot\n",
    "    # Source: https://www.geeksforgeeks.org/finding-the-outlier-points-from-matplotlib/\n",
    "    iqr = quatiles[0.75]-quatiles[0.75]\n",
    "    upper_bound = quatiles[0.75]+(1.5*iqr)\n",
    "    lower_bound = quatiles[0.25]-(1.5*iqr)\n",
    "    n_low_scoring_items = len(arr[arr <= lower_bound])\n",
    "\n",
    "    statistics = {\n",
    "        'quatiles': quatiles,\n",
    "        'upper_bound': upper_bound,\n",
    "        'lower_bound': lower_bound,\n",
    "        'variance': np.var(arr),\n",
    "        'n_items': len(arr),\n",
    "        'n_low_scoring_items': n_low_scoring_items\n",
    "    }\n",
    "    return statistics"
   ]
  },
  {
   "cell_type": "code",
   "execution_count": null,
   "id": "d92e0d01-e3f5-4c08-aeb3-19c10a706b9f",
   "metadata": {
    "scrolled": true
   },
   "outputs": [],
   "source": [
    "df_overview = generate_pose_df(POSE_DIR)"
   ]
  },
  {
   "cell_type": "code",
   "execution_count": null,
   "id": "461c3787",
   "metadata": {},
   "outputs": [],
   "source": []
  },
  {
   "cell_type": "code",
   "execution_count": null,
   "id": "4ae12e18-8962-4753-a188-559e1f843df2",
   "metadata": {},
   "outputs": [],
   "source": [
    "# Show score statistics\n",
    "print(get_statistics(df_overview.score.to_list()))\n",
    "df_overview.boxplot('score')\n",
    "plt.show()"
   ]
  },
  {
   "cell_type": "code",
   "execution_count": null,
   "id": "5ed67e3b",
   "metadata": {},
   "outputs": [],
   "source": [
    "# Show confidence statistics\n",
    "confidences = []\n",
    "for kp in df_overview.keypoints.to_list():\n",
    "    for i in range(17):\n",
    "        c_index = 2 + (i * 3)\n",
    "        confidences.append(kp[c_index])\n",
    "\n",
    "print(get_statistics(confidences))\n",
    "plt.boxplot(confidences)\n",
    "plt.show()"
   ]
  },
  {
   "cell_type": "code",
   "execution_count": null,
   "id": "f79c618a",
   "metadata": {
    "scrolled": true
   },
   "outputs": [],
   "source": [
    "def generate_tracking_df(pose_dir):\n",
    "    json_files = get_files_with_suffix(POSE_DIR, 'alphapose_tracked_person.json')\n",
    "    tracking_records = []\n",
    "    for json_file in json_files:\n",
    "        video_name = '_'.join(json_file.split('/')[-1].split('_')[:5])\n",
    "        with open(json_file) as f:\n",
    "            tracking_dict = json.load(f)\n",
    "        for obj_id, frame_data in tracking_dict.items():\n",
    "            tracking_item = {\n",
    "                'video': video_name,\n",
    "                'obj_id': obj_id,\n",
    "                'n_frames': len(frame_data.keys())\n",
    "            }\n",
    "            tracking_records.append(tracking_item)\n",
    "    return pd.DataFrame(tracking_records)\n",
    "df_tracking = generate_tracking_df(POSE_DIR)"
   ]
  },
  {
   "cell_type": "code",
   "execution_count": null,
   "id": "10698c69",
   "metadata": {},
   "outputs": [],
   "source": [
    "print('Total number of tracked objects:', df_tracking.shape[0])\n",
    "print('Number of tracked objects with less than 12 frames:', df_tracking[df_tracking.n_frames < 12].shape[0])\n",
    "df_tracking['n_frames'].plot.hist(bins=500//12)\n",
    "plt.show()"
   ]
  },
  {
   "cell_type": "code",
   "execution_count": null,
   "id": "4d6cc49f",
   "metadata": {},
   "outputs": [],
   "source": []
  },
  {
   "cell_type": "code",
   "execution_count": null,
   "id": "d9e3c610",
   "metadata": {},
   "outputs": [],
   "source": []
  },
  {
   "cell_type": "code",
   "execution_count": null,
   "id": "1278af61",
   "metadata": {},
   "outputs": [],
   "source": []
  },
  {
   "cell_type": "code",
   "execution_count": null,
   "id": "2ac3bafe",
   "metadata": {},
   "outputs": [],
   "source": []
  },
  {
   "cell_type": "code",
   "execution_count": null,
   "id": "878a8209",
   "metadata": {},
   "outputs": [],
   "source": []
  },
  {
   "cell_type": "code",
   "execution_count": null,
   "id": "c7b6ba06",
   "metadata": {},
   "outputs": [],
   "source": []
  },
  {
   "cell_type": "code",
   "execution_count": null,
   "id": "d8197f34",
   "metadata": {},
   "outputs": [],
   "source": []
  },
  {
   "cell_type": "code",
   "execution_count": null,
   "id": "1ce1a4f7",
   "metadata": {},
   "outputs": [],
   "source": []
  },
  {
   "cell_type": "code",
   "execution_count": null,
   "id": "1b9549f4",
   "metadata": {},
   "outputs": [],
   "source": []
  },
  {
   "cell_type": "code",
   "execution_count": null,
   "id": "ea65477d",
   "metadata": {
    "scrolled": true
   },
   "outputs": [],
   "source": []
  },
  {
   "cell_type": "code",
   "execution_count": null,
   "id": "705ec6be",
   "metadata": {},
   "outputs": [],
   "source": []
  }
 ],
 "metadata": {
  "kernelspec": {
   "display_name": "Python 3 (ipykernel)",
   "language": "python",
   "name": "python3"
  },
  "language_info": {
   "codemirror_mode": {
    "name": "ipython",
    "version": 3
   },
   "file_extension": ".py",
   "mimetype": "text/x-python",
   "name": "python",
   "nbconvert_exporter": "python",
   "pygments_lexer": "ipython3",
   "version": "3.8.13"
  }
 },
 "nbformat": 4,
 "nbformat_minor": 5
}
