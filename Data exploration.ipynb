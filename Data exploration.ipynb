{
 "cells": [
  {
   "cell_type": "code",
   "execution_count": 1,
   "id": "a9ba1fde-9178-40e5-90b6-3e07bc47f7b0",
   "metadata": {},
   "outputs": [],
   "source": [
    "import os\n",
    "import pandas as pd\n",
    "import json"
   ]
  },
  {
   "cell_type": "code",
   "execution_count": 2,
   "id": "3316b196-1702-4aee-ab3a-52357528bf17",
   "metadata": {},
   "outputs": [],
   "source": [
    "output_dir = './AlphaPoseOutput'"
   ]
  },
  {
   "cell_type": "code",
   "execution_count": null,
   "id": "5eebc22c-acc7-40ac-8e3b-441ea20e8a75",
   "metadata": {},
   "outputs": [],
   "source": []
  },
  {
   "cell_type": "code",
   "execution_count": 15,
   "id": "9bf7a218-c60e-4f5e-bb85-43f1578b1562",
   "metadata": {},
   "outputs": [],
   "source": [
    "with open('./AlphaPoseOutput/abnormal_scene_1_scenario_1_alphapose_tracked_person.json') as f:\n",
    "    tracking = json.load(f)"
   ]
  },
  {
   "cell_type": "code",
   "execution_count": null,
   "id": "1a86b55a-a943-4799-a95f-76bff6928336",
   "metadata": {
    "scrolled": true
   },
   "outputs": [],
   "source": []
  },
  {
   "cell_type": "code",
   "execution_count": 5,
   "id": "212f18e5-1bef-4dd8-86ed-0499f90024bb",
   "metadata": {},
   "outputs": [],
   "source": [
    "file = './AlphaPoseOutput/abnormal_scene_1_scenario_1_alphapose-results.json'"
   ]
  },
  {
   "cell_type": "code",
   "execution_count": 3,
   "id": "58c3b6d6-22e6-4c3b-a310-ed69c00cf5d9",
   "metadata": {},
   "outputs": [],
   "source": [
    "df = pd.read_json('./AlphaPoseOutput/abnormal_scene_1_scenario_1_alphapose-results.json')"
   ]
  },
  {
   "cell_type": "code",
   "execution_count": 19,
   "id": "ab3bc3b9-692f-43be-94c5-4726ace7539e",
   "metadata": {},
   "outputs": [],
   "source": [
    "df['video'] = '_'.join(file.split('/')[-1].split('-')[0].split('_')[0:-1])\n",
    "if 'abnormal' in file:\n",
    "    df['label'] = 'abnormal'\n",
    "else:\n",
    "    df['label'] = 'normal'\n",
    "df = df[['video', 'image_id', 'label', 'keypoints', 'score']]"
   ]
  },
  {
   "cell_type": "code",
   "execution_count": 22,
   "id": "6025f719-16a5-4cf7-a9e9-ec376197af90",
   "metadata": {
    "scrolled": true
   },
   "outputs": [
    {
     "data": {
      "text/html": [
       "<div>\n",
       "<style scoped>\n",
       "    .dataframe tbody tr th:only-of-type {\n",
       "        vertical-align: middle;\n",
       "    }\n",
       "\n",
       "    .dataframe tbody tr th {\n",
       "        vertical-align: top;\n",
       "    }\n",
       "\n",
       "    .dataframe thead th {\n",
       "        text-align: right;\n",
       "    }\n",
       "</style>\n",
       "<table border=\"1\" class=\"dataframe\">\n",
       "  <thead>\n",
       "    <tr style=\"text-align: right;\">\n",
       "      <th></th>\n",
       "      <th>video</th>\n",
       "      <th>image_id</th>\n",
       "      <th>label</th>\n",
       "      <th>keypoints</th>\n",
       "      <th>score</th>\n",
       "    </tr>\n",
       "  </thead>\n",
       "  <tbody>\n",
       "    <tr>\n",
       "      <th>0</th>\n",
       "      <td>abnormal_scene_1_scenario_1</td>\n",
       "      <td>41.jpg</td>\n",
       "      <td>abnormal</td>\n",
       "      <td>[5.195108413696289, 479.9351806640625, 0.00632...</td>\n",
       "      <td>2.037114</td>\n",
       "    </tr>\n",
       "    <tr>\n",
       "      <th>1</th>\n",
       "      <td>abnormal_scene_1_scenario_1</td>\n",
       "      <td>41.jpg</td>\n",
       "      <td>abnormal</td>\n",
       "      <td>[20.164642333984375, 482.60321044921875, 0.157...</td>\n",
       "      <td>1.567047</td>\n",
       "    </tr>\n",
       "    <tr>\n",
       "      <th>2</th>\n",
       "      <td>abnormal_scene_1_scenario_1</td>\n",
       "      <td>41.jpg</td>\n",
       "      <td>abnormal</td>\n",
       "      <td>[29.535585403442383, 699.7320556640625, 0.0536...</td>\n",
       "      <td>0.647773</td>\n",
       "    </tr>\n",
       "    <tr>\n",
       "      <th>3</th>\n",
       "      <td>abnormal_scene_1_scenario_1</td>\n",
       "      <td>42.jpg</td>\n",
       "      <td>abnormal</td>\n",
       "      <td>[75.02191162109375, 276.1699523925781, 0.93825...</td>\n",
       "      <td>2.857396</td>\n",
       "    </tr>\n",
       "    <tr>\n",
       "      <th>4</th>\n",
       "      <td>abnormal_scene_1_scenario_1</td>\n",
       "      <td>43.jpg</td>\n",
       "      <td>abnormal</td>\n",
       "      <td>[131.11618041992188, 289.27117919921875, 0.944...</td>\n",
       "      <td>2.890377</td>\n",
       "    </tr>\n",
       "    <tr>\n",
       "      <th>...</th>\n",
       "      <td>...</td>\n",
       "      <td>...</td>\n",
       "      <td>...</td>\n",
       "      <td>...</td>\n",
       "      <td>...</td>\n",
       "    </tr>\n",
       "    <tr>\n",
       "      <th>63</th>\n",
       "      <td>abnormal_scene_1_scenario_1</td>\n",
       "      <td>102.jpg</td>\n",
       "      <td>abnormal</td>\n",
       "      <td>[1075.19482421875, 347.8183288574219, 0.430102...</td>\n",
       "      <td>2.862549</td>\n",
       "    </tr>\n",
       "    <tr>\n",
       "      <th>64</th>\n",
       "      <td>abnormal_scene_1_scenario_1</td>\n",
       "      <td>103.jpg</td>\n",
       "      <td>abnormal</td>\n",
       "      <td>[1074.4276123046875, 347.0867919921875, 0.4370...</td>\n",
       "      <td>2.877481</td>\n",
       "    </tr>\n",
       "    <tr>\n",
       "      <th>65</th>\n",
       "      <td>abnormal_scene_1_scenario_1</td>\n",
       "      <td>104.jpg</td>\n",
       "      <td>abnormal</td>\n",
       "      <td>[1077.891357421875, 348.805908203125, 0.438158...</td>\n",
       "      <td>2.804903</td>\n",
       "    </tr>\n",
       "    <tr>\n",
       "      <th>66</th>\n",
       "      <td>abnormal_scene_1_scenario_1</td>\n",
       "      <td>105.jpg</td>\n",
       "      <td>abnormal</td>\n",
       "      <td>[1072.9036865234375, 355.07183837890625, 0.041...</td>\n",
       "      <td>2.502940</td>\n",
       "    </tr>\n",
       "    <tr>\n",
       "      <th>67</th>\n",
       "      <td>abnormal_scene_1_scenario_1</td>\n",
       "      <td>106.jpg</td>\n",
       "      <td>abnormal</td>\n",
       "      <td>[1075.1156005859375, 362.36181640625, 0.146468...</td>\n",
       "      <td>1.879868</td>\n",
       "    </tr>\n",
       "  </tbody>\n",
       "</table>\n",
       "<p>68 rows × 5 columns</p>\n",
       "</div>"
      ],
      "text/plain": [
       "                          video image_id     label  \\\n",
       "0   abnormal_scene_1_scenario_1   41.jpg  abnormal   \n",
       "1   abnormal_scene_1_scenario_1   41.jpg  abnormal   \n",
       "2   abnormal_scene_1_scenario_1   41.jpg  abnormal   \n",
       "3   abnormal_scene_1_scenario_1   42.jpg  abnormal   \n",
       "4   abnormal_scene_1_scenario_1   43.jpg  abnormal   \n",
       "..                          ...      ...       ...   \n",
       "63  abnormal_scene_1_scenario_1  102.jpg  abnormal   \n",
       "64  abnormal_scene_1_scenario_1  103.jpg  abnormal   \n",
       "65  abnormal_scene_1_scenario_1  104.jpg  abnormal   \n",
       "66  abnormal_scene_1_scenario_1  105.jpg  abnormal   \n",
       "67  abnormal_scene_1_scenario_1  106.jpg  abnormal   \n",
       "\n",
       "                                            keypoints     score  \n",
       "0   [5.195108413696289, 479.9351806640625, 0.00632...  2.037114  \n",
       "1   [20.164642333984375, 482.60321044921875, 0.157...  1.567047  \n",
       "2   [29.535585403442383, 699.7320556640625, 0.0536...  0.647773  \n",
       "3   [75.02191162109375, 276.1699523925781, 0.93825...  2.857396  \n",
       "4   [131.11618041992188, 289.27117919921875, 0.944...  2.890377  \n",
       "..                                                ...       ...  \n",
       "63  [1075.19482421875, 347.8183288574219, 0.430102...  2.862549  \n",
       "64  [1074.4276123046875, 347.0867919921875, 0.4370...  2.877481  \n",
       "65  [1077.891357421875, 348.805908203125, 0.438158...  2.804903  \n",
       "66  [1072.9036865234375, 355.07183837890625, 0.041...  2.502940  \n",
       "67  [1075.1156005859375, 362.36181640625, 0.146468...  1.879868  \n",
       "\n",
       "[68 rows x 5 columns]"
      ]
     },
     "execution_count": 22,
     "metadata": {},
     "output_type": "execute_result"
    }
   ],
   "source": []
  },
  {
   "cell_type": "code",
   "execution_count": null,
   "id": "addfcdd0-d898-418b-a4d5-cbdd37e0305a",
   "metadata": {},
   "outputs": [],
   "source": []
  },
  {
   "cell_type": "code",
   "execution_count": 10,
   "id": "b7f07e8b-4836-4cae-afd1-1e8cb19dc9a9",
   "metadata": {},
   "outputs": [],
   "source": [
    "df2 = pd.read_json('./AlphaPoseOutput/abnormal_scene_1_scenario_1_alphapose_tracked_person.json')"
   ]
  },
  {
   "cell_type": "code",
   "execution_count": 29,
   "id": "054378c5-6d43-41c3-b71b-780bffebc708",
   "metadata": {},
   "outputs": [],
   "source": [
    "def get_jsons(directory: str):\n",
    "    \"\"\"Function that exctracts the mp4 files from the given directory\n",
    "    and returns the path to the video and it's annotations\n",
    "    \"\"\"\n",
    "    filelist = [];\n",
    "    for root, dirs, files in os.walk(directory):\n",
    "        for file in files:\n",
    "            if file.endswith('.json'):\n",
    "                json_file = os.path.join(root,file)\n",
    "                filelist.append(json_file)\n",
    "    return filelist"
   ]
  },
  {
   "cell_type": "code",
   "execution_count": 30,
   "id": "d92e0d01-e3f5-4c08-aeb3-19c10a706b9f",
   "metadata": {},
   "outputs": [],
   "source": [
    "json_files = get_jsons(output_dir)"
   ]
  },
  {
   "cell_type": "code",
   "execution_count": null,
   "id": "4ae12e18-8962-4753-a188-559e1f843df2",
   "metadata": {},
   "outputs": [],
   "source": []
  },
  {
   "cell_type": "code",
   "execution_count": 32,
   "id": "ac44eb51-5f5c-4d30-80ae-490d00af1e97",
   "metadata": {},
   "outputs": [],
   "source": [
    "# Process pose results jsons\n",
    "dfs = []\n",
    "for file in json_files:\n",
    "    if file.endswith('results.json'):\n",
    "        df = pd.read_json(file)\n",
    "        df['video'] = '_'.join(file.split('/')[-1].split('-')[0].split('_')[0:-1])\n",
    "        if 'abnormal' in file:\n",
    "            df['label'] = 'abnormal'\n",
    "        else:\n",
    "            df['label'] = 'normal'\n",
    "        df = df[['video', 'image_id', 'label', 'keypoints', 'score']]\n",
    "        dfs.append(df)\n",
    "df_overview = pd.concat(dfs, ignore_index=True)"
   ]
  },
  {
   "cell_type": "code",
   "execution_count": 35,
   "id": "d5dd4d61-4cf5-44ea-bdaa-0a364fc76aa8",
   "metadata": {},
   "outputs": [
    {
     "data": {
      "text/plain": [
       "<Axes: >"
      ]
     },
     "execution_count": 35,
     "metadata": {},
     "output_type": "execute_result"
    },
    {
     "data": {
      "image/png": "[encoded data removed]",
      "text/plain": [
       "<Figure size 640x480 with 1 Axes>"
      ]
     },
     "metadata": {},
     "output_type": "display_data"
    }
   ],
   "source": [
    "df_overview.boxplot('score')"
   ]
  }
 ],
 "metadata": {
  "kernelspec": {
   "display_name": "Python 3 (ipykernel)",
   "language": "python",
   "name": "python3"
  },
  "language_info": {
   "codemirror_mode": {
    "name": "ipython",
    "version": 3
   },
   "file_extension": ".py",
   "mimetype": "text/x-python",
   "name": "python",
   "nbconvert_exporter": "python",
   "pygments_lexer": "ipython3",
   "version": "3.9.19"
  }
 },
 "nbformat": 4,
 "nbformat_minor": 5
}
