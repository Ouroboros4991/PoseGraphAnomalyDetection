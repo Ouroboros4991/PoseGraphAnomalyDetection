{
 "cells": [
  {
   "cell_type": "code",
   "execution_count": 9,
   "id": "a9ba1fde-9178-40e5-90b6-3e07bc47f7b0",
   "metadata": {},
   "outputs": [],
   "source": [
    "import os\n",
    "import pandas as pd\n",
    "import json"
   ]
  },
  {
   "cell_type": "code",
   "execution_count": 10,
   "id": "3316b196-1702-4aee-ab3a-52357528bf17",
   "metadata": {},
   "outputs": [],
   "source": [
    "pose_dict = './UBNormalAlphaPoseOutput'\n",
    "video_dict = './data/UBnormal'"
   ]
  },
  {
   "cell_type": "code",
   "execution_count": null,
   "id": "b7f07e8b-4836-4cae-afd1-1e8cb19dc9a9",
   "metadata": {},
   "outputs": [],
   "source": []
  },
  {
   "cell_type": "code",
   "execution_count": 11,
   "id": "054378c5-6d43-41c3-b71b-780bffebc708",
   "metadata": {},
   "outputs": [],
   "source": [
    "def get_jsons(directory: str):\n",
    "    \"\"\"Function that exctracts the mp4 files from the given directory\n",
    "    and returns the path to the video and it's annotations\n",
    "    \"\"\"\n",
    "    filelist = [];\n",
    "    for root, dirs, files in os.walk(directory):\n",
    "        for file in files:\n",
    "            if file.endswith('.json'):\n",
    "                json_file = os.path.join(root,file)\n",
    "                filelist.append(json_file)\n",
    "    return filelist\n",
    "\n",
    "def load_pose_jsons(json_files):\n",
    "    dfs = []\n",
    "    for file in json_files:\n",
    "        if file.endswith('results.json'):\n",
    "            df = pd.read_json(file)\n",
    "            df['video'] = '_'.join(file.split('/')[-1].split('-')[0].split('_')[0:-1])\n",
    "            if 'abnormal' in file:\n",
    "                df['label'] = 'abnormal'\n",
    "            else:\n",
    "                df['label'] = 'normal'\n",
    "            df = df[['video', 'image_id', 'label', 'keypoints', 'score']]\n",
    "            dfs.append(df)\n",
    "    df_overview = pd.concat(dfs, ignore_index=True)\n",
    "    return df_overview\n",
    "\n",
    "def load_tracking_jsons(json_files):\n",
    "    dfs = []\n",
    "    for file in json_files:\n",
    "        if file.endswith('tracked_person.json'):\n",
    "            with open(file) as f:\n",
    "                tracking = json.load(f)\n",
    "            items = []\n",
    "            for v in tracking.values():\n",
    "                for d in v.values():\n",
    "                    items.append(d)\n",
    "            if items:\n",
    "                df = pd.DataFrame(items)\n",
    "                df['video'] = '_'.join(file.split('/')[-1].split('-')[0].split('_')[0:-1])\n",
    "                if 'abnormal' in file:\n",
    "                    df['label'] = 'abnormal'\n",
    "                else:\n",
    "                    df['label'] = 'normal'\n",
    "                df = df[['video','label', 'keypoints', 'scores']]\n",
    "                dfs.append(df)\n",
    "    df_overview = pd.concat(dfs, ignore_index=True)\n",
    "    return df_overview"
   ]
  },
  {
   "cell_type": "code",
   "execution_count": 4,
   "id": "8c15df97-89ab-4145-bed3-c520d1b8f475",
   "metadata": {
    "scrolled": true
   },
   "outputs": [],
   "source": []
  },
  {
   "cell_type": "code",
   "execution_count": null,
   "id": "60a0dc0f-165a-450d-ac0a-724e271540cd",
   "metadata": {
    "scrolled": true
   },
   "outputs": [],
   "source": []
  },
  {
   "cell_type": "code",
   "execution_count": 7,
   "id": "7bb065b5-8983-4a64-9501-074275767452",
   "metadata": {},
   "outputs": [],
   "source": [
    "json_files = get_jsons(pose_dict)\n",
    "df_overview = load_pose_jsons(json_files)"
   ]
  },
  {
   "cell_type": "code",
   "execution_count": 8,
   "id": "002a76bd-3f33-43f0-8461-d1f76e767326",
   "metadata": {},
   "outputs": [
    {
     "data": {
      "text/html": [
       "<div>\n",
       "<style scoped>\n",
       "    .dataframe tbody tr th:only-of-type {\n",
       "        vertical-align: middle;\n",
       "    }\n",
       "\n",
       "    .dataframe tbody tr th {\n",
       "        vertical-align: top;\n",
       "    }\n",
       "\n",
       "    .dataframe thead th {\n",
       "        text-align: right;\n",
       "    }\n",
       "</style>\n",
       "<table border=\"1\" class=\"dataframe\">\n",
       "  <thead>\n",
       "    <tr style=\"text-align: right;\">\n",
       "      <th></th>\n",
       "      <th>video</th>\n",
       "      <th>image_id</th>\n",
       "      <th>keypoints</th>\n",
       "      <th>score</th>\n",
       "    </tr>\n",
       "    <tr>\n",
       "      <th>label</th>\n",
       "      <th></th>\n",
       "      <th></th>\n",
       "      <th></th>\n",
       "      <th></th>\n",
       "    </tr>\n",
       "  </thead>\n",
       "  <tbody>\n",
       "    <tr>\n",
       "      <th>abnormal</th>\n",
       "      <td>497873</td>\n",
       "      <td>497873</td>\n",
       "      <td>497873</td>\n",
       "      <td>497873</td>\n",
       "    </tr>\n",
       "    <tr>\n",
       "      <th>normal</th>\n",
       "      <td>492307</td>\n",
       "      <td>492307</td>\n",
       "      <td>492307</td>\n",
       "      <td>492307</td>\n",
       "    </tr>\n",
       "  </tbody>\n",
       "</table>\n",
       "</div>"
      ],
      "text/plain": [
       "           video  image_id  keypoints   score\n",
       "label                                        \n",
       "abnormal  497873    497873     497873  497873\n",
       "normal    492307    492307     492307  492307"
      ]
     },
     "execution_count": 8,
     "metadata": {},
     "output_type": "execute_result"
    }
   ],
   "source": [
    "df_overview.groupby('label').count()"
   ]
  },
  {
   "cell_type": "code",
   "execution_count": 8,
   "id": "22f0f4bd-f2d9-417a-a37e-e823771881a6",
   "metadata": {},
   "outputs": [
    {
     "ename": "NameError",
     "evalue": "name 'df_overview' is not defined",
     "output_type": "error",
     "traceback": [
      "\u001b[0;31m---------------------------------------------------------------------------\u001b[0m",
      "\u001b[0;31mNameError\u001b[0m                                 Traceback (most recent call last)",
      "Cell \u001b[0;32mIn[8], line 1\u001b[0m\n\u001b[0;32m----> 1\u001b[0m \u001b[43mdf_overview\u001b[49m[\u001b[38;5;124m'\u001b[39m\u001b[38;5;124mscore\u001b[39m\u001b[38;5;124m'\u001b[39m]\u001b[38;5;241m.\u001b[39mmean()\n",
      "\u001b[0;31mNameError\u001b[0m: name 'df_overview' is not defined"
     ]
    }
   ],
   "source": [
    "df_overview['score'].mean()"
   ]
  },
  {
   "cell_type": "code",
   "execution_count": 9,
   "id": "9dd69d55-b1f8-49e5-b0ab-873cca3e7246",
   "metadata": {},
   "outputs": [
    {
     "data": {
      "text/plain": [
       "<AxesSubplot:>"
      ]
     },
     "execution_count": 9,
     "metadata": {},
     "output_type": "execute_result"
    },
    {
     "data": {
      "image/png": "[encoded data removed]",
      "text/plain": [
       "<Figure size 640x480 with 1 Axes>"
      ]
     },
     "metadata": {},
     "output_type": "display_data"
    }
   ],
   "source": [
    "df_overview.boxplot('score')"
   ]
  },
  {
   "cell_type": "code",
   "execution_count": null,
   "id": "055e6d41-8d49-4808-ac73-91780191ed6d",
   "metadata": {},
   "outputs": [],
   "source": []
  },
  {
   "cell_type": "code",
   "execution_count": 5,
   "id": "4ae12e18-8962-4753-a188-559e1f843df2",
   "metadata": {
    "scrolled": true
   },
   "outputs": [],
   "source": [
    "df_provided_poses = load_tracking_jsons(get_jsons('/mnt/c/Users/ruben/Downloads/data/data/UBnormal'))"
   ]
  },
  {
   "cell_type": "code",
   "execution_count": 6,
   "id": "34477abf-c1d3-4f31-81dc-cc970ccd0dc3",
   "metadata": {},
   "outputs": [
    {
     "data": {
      "text/html": [
       "<div>\n",
       "<style scoped>\n",
       "    .dataframe tbody tr th:only-of-type {\n",
       "        vertical-align: middle;\n",
       "    }\n",
       "\n",
       "    .dataframe tbody tr th {\n",
       "        vertical-align: top;\n",
       "    }\n",
       "\n",
       "    .dataframe thead th {\n",
       "        text-align: right;\n",
       "    }\n",
       "</style>\n",
       "<table border=\"1\" class=\"dataframe\">\n",
       "  <thead>\n",
       "    <tr style=\"text-align: right;\">\n",
       "      <th></th>\n",
       "      <th>video</th>\n",
       "      <th>keypoints</th>\n",
       "      <th>scores</th>\n",
       "    </tr>\n",
       "    <tr>\n",
       "      <th>label</th>\n",
       "      <th></th>\n",
       "      <th></th>\n",
       "      <th></th>\n",
       "    </tr>\n",
       "  </thead>\n",
       "  <tbody>\n",
       "    <tr>\n",
       "      <th>abnormal</th>\n",
       "      <td>99507</td>\n",
       "      <td>99507</td>\n",
       "      <td>99507</td>\n",
       "    </tr>\n",
       "    <tr>\n",
       "      <th>normal</th>\n",
       "      <td>361031</td>\n",
       "      <td>361031</td>\n",
       "      <td>361031</td>\n",
       "    </tr>\n",
       "  </tbody>\n",
       "</table>\n",
       "</div>"
      ],
      "text/plain": [
       "           video  keypoints  scores\n",
       "label                              \n",
       "abnormal   99507      99507   99507\n",
       "normal    361031     361031  361031"
      ]
     },
     "execution_count": 6,
     "metadata": {},
     "output_type": "execute_result"
    }
   ],
   "source": [
    "df_provided_poses.groupby('label').count()"
   ]
  },
  {
   "cell_type": "code",
   "execution_count": 7,
   "id": "c042a7bc-ea78-4f2e-a19c-c07620a9d3a1",
   "metadata": {
    "scrolled": true
   },
   "outputs": [
    {
     "data": {
      "text/plain": [
       "<AxesSubplot:>"
      ]
     },
     "execution_count": 7,
     "metadata": {},
     "output_type": "execute_result"
    },
    {
     "data": {
      "image/png": "[encoded data removed]",
      "text/plain": [
       "<Figure size 640x480 with 1 Axes>"
      ]
     },
     "metadata": {},
     "output_type": "display_data"
    }
   ],
   "source": [
    "df_provided_poses.boxplot('scores')"
   ]
  },
  {
   "cell_type": "code",
   "execution_count": null,
   "id": "52aeddb2-3703-4f89-87eb-b83483df1715",
   "metadata": {},
   "outputs": [],
   "source": []
  },
  {
   "cell_type": "code",
   "execution_count": null,
   "id": "272239ea-ebd5-4b90-80ba-a81533a5b870",
   "metadata": {},
   "outputs": [],
   "source": []
  }
 ],
 "metadata": {
  "kernelspec": {
   "display_name": "Python 3 (ipykernel)",
   "language": "python",
   "name": "python3"
  },
  "language_info": {
   "codemirror_mode": {
    "name": "ipython",
    "version": 3
   },
   "file_extension": ".py",
   "mimetype": "text/x-python",
   "name": "python",
   "nbconvert_exporter": "python",
   "pygments_lexer": "ipython3",
   "version": "3.8.13"
  }
 },
 "nbformat": 4,
 "nbformat_minor": 5
}
